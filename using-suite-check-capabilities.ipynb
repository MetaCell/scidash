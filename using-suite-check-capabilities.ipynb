{
 "cells": [
  {
   "cell_type": "code",
   "execution_count": 1,
   "metadata": {},
   "outputs": [],
   "source": [
    "import quantities as pq\n",
    "from sciunit import TestSuite,Capability\n",
    "from neuronunit.models.reduced import ReducedModel\n",
    "from neuronunit.tests.waveform import APWidthTest"
   ]
  },
  {
   "cell_type": "code",
   "execution_count": 2,
   "metadata": {},
   "outputs": [],
   "source": [
    "observations = [{'mean':x*pq.ms, 'std':1*pq.ms} for x in range(3)]"
   ]
  },
  {
   "cell_type": "code",
   "execution_count": 3,
   "metadata": {},
   "outputs": [],
   "source": [
    "class FakeCapability(Capability):\n",
    "    pass\n",
    "\n",
    "class FakeModel(ReducedModel,FakeCapability):\n",
    "    pass"
   ]
  },
  {
   "cell_type": "code",
   "execution_count": 4,
   "metadata": {},
   "outputs": [],
   "source": [
    "tests = [APWidthTest(observation, name='test_%d'%i) for i,observation in enumerate(observations)]\n",
    "tests[1].required_capabilities = list(tests[1].required_capabilities)+[FakeCapability]\n",
    "suite = TestSuite(tests)"
   ]
  },
  {
   "cell_type": "code",
   "execution_count": 5,
   "metadata": {},
   "outputs": [],
   "source": [
    "models = [ReducedModel('LEMS_2007One.xml', name='model_%d'%i) for i in range(4)]\n",
    "models += [FakeModel('LEMS_2007One.xml', name='model_4')]"
   ]
  },
  {
   "cell_type": "code",
   "execution_count": 6,
   "metadata": {},
   "outputs": [
    {
     "data": {
      "text/html": [
       "<html><body><div>\n",
       "<table border=\"1\" class=\"dataframe\" id=\"-7865827891853201276\">\n",
       "<thead>\n",
       "<tr style=\"text-align: right;\">\n",
       "<th></th>\n",
       "<th title=\"A test of the widths of action potentials at half of their maximum height.\">test_0</th>\n",
       "<th title=\"A test of the widths of action potentials at half of their maximum height.\">test_1</th>\n",
       "<th title=\"A test of the widths of action potentials at half of their maximum height.\">test_2</th>\n",
       "</tr>\n",
       "</thead>\n",
       "<tbody>\n",
       "<tr>\n",
       "<th title=\"Base class for reduced models, using LEMS\">model_0</th>\n",
       "<td style=\"background-color: rgb(128,128,128);\" title=\"No description available\">TBD</td>\n",
       "<td style=\"background-color: rgb(128,128,128);\" title=\"No description available\">N/A</td>\n",
       "<td style=\"background-color: rgb(128,128,128);\" title=\"No description available\">TBD</td>\n",
       "</tr>\n",
       "<tr>\n",
       "<th title=\"Base class for reduced models, using LEMS\">model_1</th>\n",
       "<td style=\"background-color: rgb(128,128,128);\" title=\"No description available\">TBD</td>\n",
       "<td style=\"background-color: rgb(128,128,128);\" title=\"No description available\">N/A</td>\n",
       "<td style=\"background-color: rgb(128,128,128);\" title=\"No description available\">TBD</td>\n",
       "</tr>\n",
       "<tr>\n",
       "<th title=\"Base class for reduced models, using LEMS\">model_2</th>\n",
       "<td style=\"background-color: rgb(128,128,128);\" title=\"No description available\">TBD</td>\n",
       "<td style=\"background-color: rgb(128,128,128);\" title=\"No description available\">N/A</td>\n",
       "<td style=\"background-color: rgb(128,128,128);\" title=\"No description available\">TBD</td>\n",
       "</tr>\n",
       "<tr>\n",
       "<th title=\"Base class for reduced models, using LEMS\">model_3</th>\n",
       "<td style=\"background-color: rgb(128,128,128);\" title=\"No description available\">TBD</td>\n",
       "<td style=\"background-color: rgb(128,128,128);\" title=\"No description available\">N/A</td>\n",
       "<td style=\"background-color: rgb(128,128,128);\" title=\"No description available\">TBD</td>\n",
       "</tr>\n",
       "<tr>\n",
       "<th title=\"No description available\">model_4</th>\n",
       "<td style=\"background-color: rgb(128,128,128);\" title=\"No description available\">TBD</td>\n",
       "<td style=\"background-color: rgb(128,128,128);\" title=\"No description available\">TBD</td>\n",
       "<td style=\"background-color: rgb(128,128,128);\" title=\"No description available\">TBD</td>\n",
       "</tr>\n",
       "</tbody>\n",
       "</table>\n",
       "</div></body></html>"
      ],
      "text/plain": [
       "        test_0 test_1 test_2\n",
       "model_0    TBD    N/A    TBD\n",
       "model_1    TBD    N/A    TBD\n",
       "model_2    TBD    N/A    TBD\n",
       "model_3    TBD    N/A    TBD\n",
       "model_4    TBD    TBD    TBD"
      ]
     },
     "execution_count": 6,
     "metadata": {},
     "output_type": "execute_result"
    }
   ],
   "source": [
    "suite.check(models)"
   ]
  },
  {
   "cell_type": "code",
   "execution_count": 7,
   "metadata": {},
   "outputs": [
    {
     "data": {
      "text/plain": [
       "[True, False, True]"
      ]
     },
     "execution_count": 7,
     "metadata": {},
     "output_type": "execute_result"
    }
   ],
   "source": [
    "suite.check_capabilities(models[3], skip_incapable=True)"
   ]
  }
 ],
 "metadata": {
  "kernelspec": {
   "display_name": "Python 3",
   "language": "python",
   "name": "python3"
  },
  "language_info": {
   "codemirror_mode": {
    "name": "ipython",
    "version": 3
   },
   "file_extension": ".py",
   "mimetype": "text/x-python",
   "name": "python",
   "nbconvert_exporter": "python",
   "pygments_lexer": "ipython3",
   "version": "3.6.5"
  }
 },
 "nbformat": 4,
 "nbformat_minor": 2
}
