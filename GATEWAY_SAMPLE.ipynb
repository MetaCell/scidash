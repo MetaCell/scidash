{
 "cells": [
  {
   "cell_type": "code",
   "execution_count": 1,
   "metadata": {},
   "outputs": [],
   "source": [
    "import pygeppetto_gateway as pg\n",
    "import os"
   ]
  },
  {
   "cell_type": "code",
   "execution_count": 2,
   "metadata": {},
   "outputs": [
    {
     "data": {
      "text/plain": [
       "'/tmp/project.json'"
      ]
     },
     "execution_count": 2,
     "metadata": {},
     "output_type": "execute_result"
    }
   ],
   "source": [
    "os.environ.setdefault(\"DJANGO_SETTINGS_MODULE\", \"scidash.main.settings\")\n",
    "\n",
    "builder = pg.GeppettoProjectBuilder('https://raw.githubusercontent.com/openworm/org.geppetto.core/master/src/main/resources/projects/AuditoryCortex/AMPA_syn.synapse.nml')\n",
    "builder.build_project()"
   ]
  },
  {
   "cell_type": "code",
   "execution_count": 3,
   "metadata": {},
   "outputs": [],
   "source": [
    "servlet_manager = pg.GeppettoServletManager()"
   ]
  },
  {
   "cell_type": "code",
   "execution_count": 4,
   "metadata": {},
   "outputs": [],
   "source": [
    "servlet_manager.handle('load_project_from_url', 'https://raw.githubusercontent.com/MetaCell/org.geppetto.simulator.scidash/development/src/test/resources/scidashSimulationNeuronTest/GEPPETTO.json')"
   ]
  },
  {
   "cell_type": "code",
   "execution_count": 5,
   "metadata": {},
   "outputs": [
    {
     "data": {
      "text/plain": [
       "'{\"type\":\"user_privileges\",\"data\":\"{\\\\\"user_privileges\\\\\":\\\\\"{\\\\\\\\\\\\\"userName\\\\\\\\\\\\\":\\\\\\\\\\\\\"Guest 0\\\\\\\\\\\\\",\\\\\\\\\\\\\"loggedIn\\\\\\\\\\\\\":true,\\\\\\\\\\\\\"hasPersistence\\\\\\\\\\\\\":false,\\\\\\\\\\\\\"privileges\\\\\\\\\\\\\":[\\\\\\\\\\\\\"READ_PROJECT\\\\\\\\\\\\\",\\\\\\\\\\\\\"DOWNLOAD\\\\\\\\\\\\\"]}\\\\\"}\"}'"
      ]
     },
     "execution_count": 5,
     "metadata": {},
     "output_type": "execute_result"
    }
   ],
   "source": [
    "servlet_manager.read()"
   ]
  },
  {
   "cell_type": "code",
   "execution_count": 6,
   "metadata": {},
   "outputs": [
    {
     "data": {
      "text/plain": [
       "'{\"type\":\"client_id\",\"data\":\"{\\\\\"clientID\\\\\":\\\\\"Connection1\\\\\"}\"}'"
      ]
     },
     "execution_count": 6,
     "metadata": {},
     "output_type": "execute_result"
    }
   ],
   "source": [
    "servlet_manager.read()"
   ]
  },
  {
   "cell_type": "code",
   "execution_count": 7,
   "metadata": {},
   "outputs": [
    {
     "data": {
      "text/plain": [
       "'{\"requestID\":\"pg-request\",\"type\":\"project_loaded\",\"data\":\"{\\\\\"project_loaded\\\\\":\\\\\"{\\\\\\\\\\\\\"persisted\\\\\\\\\\\\\":false,\\\\\\\\\\\\\"project\\\\\\\\\\\\\":{\\\\\\\\\\\\\"id\\\\\\\\\\\\\":1549038581,\\\\\\\\\\\\\"name\\\\\\\\\\\\\":\\\\\\\\\\\\\"Hodgkin-Huxley Neuron\\\\\\\\\\\\\",\\\\\\\\\\\\\"experiments\\\\\\\\\\\\\":[{\\\\\\\\\\\\\"id\\\\\\\\\\\\\":1,\\\\\\\\\\\\\"aspectConfigurations\\\\\\\\\\\\\":[{\\\\\\\\\\\\\"id\\\\\\\\\\\\\":0,\\\\\\\\\\\\\"instance\\\\\\\\\\\\\":\\\\\\\\\\\\\"hhcell\\\\\\\\\\\\\",\\\\\\\\\\\\\"watchedVariables\\\\\\\\\\\\\":[\\\\\\\\\\\\\"hhcell.hhpop[0].v\\\\\\\\\\\\\",\\\\\\\\\\\\\"hhcell.hhpop[0].bioPhys1.membraneProperties.naChans.na.m.q\\\\\\\\\\\\\",\\\\\\\\\\\\\"hhcell.hhpop[0].bioPhys1.membraneProperties.naChans.na.h.q\\\\\\\\\\\\\",\\\\\\\\\\\\\"hhcell.hhpop[0].bioPhys1.membraneProperties.kChans.k.n.q\\\\\\\\\\\\\"],\\\\\\\\\\\\\"simulatorConfiguration\\\\\\\\\\\\\":{\\\\\\\\\\\\\"id\\\\\\\\\\\\\":1,\\\\\\\\\\\\\"simulatorId\\\\\\\\\\\\\":\\\\\\\\\\\\\"scidashSimulator\\\\\\\\\\\\\",\\\\\\\\\\\\\"conversionServiceId\\\\\\\\\\\\\":\\\\\\\\\\\\\"lemsConversion\\\\\\\\\\\\\",\\\\\\\\\\\\\"timestep\\\\\\\\\\\\\":5.0E-5,\\\\\\\\\\\\\"length\\\\\\\\\\\\\":0.3,\\\\\\\\\\\\\"parameters\\\\\\\\\\\\\":{\\\\\\\\\\\\\"target\\\\\\\\\\\\\":\\\\\\\\\\\\\"net1\\\\\\\\\\\\\",\\\\\\\\\\\\\"scoreID\\\\\\\\\\\\\":\\\\\\\\\\\\\"123\\\\\\\\\\\\\"}}}],\\\\\\\\\\\\\"name\\\\\\\\\\\\\":\\\\\\\\\\\\\"Hodgkin-Huxley NEURON simulation\\\\\\\\\\\\\",\\\\\\\\\\\\\"description\\\\\\\\\\\\\":\\\\\\\\\\\\\"The Hodgkin-Huxley model (or conductance-based model) is a mathematical model that describes how action potentials in neurons are initiated and propagated. It is a set of nonlinear differential equations that approximates the electrical characteristics of excitable cells such as neurons.\\\\\\\\\\\\\",\\\\\\\\\\\\\"lastModified\\\\\\\\\\\\\":\\\\\\\\\\\\\"Apr 12, 47478 1:03:19 AM\\\\\\\\\\\\\",\\\\\\\\\\\\\"status\\\\\\\\\\\\\":\\\\\\\\\\\\\"DESIGN\\\\\\\\\\\\\",\\\\\\\\\\\\\"script\\\\\\\\\\\\\":\\\\\\\\\\\\\"https://raw.githubusercontent.com/openworm/org.geppetto.samples/development/UsedInUnitTests/SingleComponentHH/HH_Geppetto_Script.js\\\\\\\\\\\\\"}],\\\\\\\\\\\\\"geppettoModel\\\\\\\\\\\\\":{\\\\\\\\\\\\\"id\\\\\\\\\\\\\":1,\\\\\\\\\\\\\"url\\\\\\\\\\\\\":\\\\\\\\\\\\\"https://raw.githubusercontent.com/openworm/org.geppetto.samples/development/UsedInUnitTests/SingleComponentHH/GeppettoModel.xmi\\\\\\\\\\\\\",\\\\\\\\\\\\\"type\\\\\\\\\\\\\":\\\\\\\\\\\\\"GEPPETTO_PROJECT\\\\\\\\\\\\\"},\\\\\\\\\\\\\"activeExperimentId\\\\\\\\\\\\\":1,\\\\\\\\\\\\\"isPublic\\\\\\\\\\\\\":false,\\\\\\\\\\\\\"view\\\\\\\\\\\\\":{\\\\\\\\\\\\\"id\\\\\\\\\\\\\":1,\\\\\\\\\\\\\"viewStates\\\\\\\\\\\\\":\\\\\\\\\\\\\"{\\\\\\\\\\\\\\\\\\\\\\\\\\\\\"views\\\\\\\\\\\\\\\\\\\\\\\\\\\\\":{\\\\\\\\\\\\\\\\\\\\\\\\\\\\\"Canvas1\\\\\\\\\\\\\\\\\\\\\\\\\\\\\":{\\\\\\\\\\\\\\\\\\\\\\\\\\\\\"widgetType\\\\\\\\\\\\\\\\\\\\\\\\\\\\\":\\\\\\\\\\\\\\\\\\\\\\\\\\\\\"CANVAS\\\\\\\\\\\\\\\\\\\\\\\\\\\\\",\\\\\\\\\\\\\\\\\\\\\\\\\\\\\"componentSpecific\\\\\\\\\\\\\\\\\\\\\\\\\\\\\":{\\\\\\\\\\\\\\\\\\\\\\\\\\\\\"radiusMap\\\\\\\\\\\\\\\\\\\\\\\\\\\\\":{},\\\\\\\\\\\\\\\\\\\\\\\\\\\\\"colorMap\\\\\\\\\\\\\\\\\\\\\\\\\\\\\":{}}}}}\\\\\\\\\\\\\"}},\\\\\\\\\\\\\"isReadOnly\\\\\\\\\\\\\":false}\\\\\"}\"}'"
      ]
     },
     "execution_count": 7,
     "metadata": {},
     "output_type": "execute_result"
    }
   ],
   "source": [
    "servlet_manager.read()"
   ]
  },
  {
   "cell_type": "code",
   "execution_count": 8,
   "metadata": {},
   "outputs": [],
   "source": [
    "servlet_manager.handle('run_experiment', 1)"
   ]
  },
  {
   "cell_type": "code",
   "execution_count": 9,
   "metadata": {},
   "outputs": [
    {
     "data": {
      "text/plain": [
       "'{\"type\":\"user_privileges\",\"data\":\"{\\\\\"user_privileges\\\\\":\\\\\"{\\\\\\\\\\\\\"userName\\\\\\\\\\\\\":\\\\\\\\\\\\\"Guest 0\\\\\\\\\\\\\",\\\\\\\\\\\\\"loggedIn\\\\\\\\\\\\\":true,\\\\\\\\\\\\\"hasPersistence\\\\\\\\\\\\\":false,\\\\\\\\\\\\\"privileges\\\\\\\\\\\\\":[\\\\\\\\\\\\\"READ_PROJECT\\\\\\\\\\\\\",\\\\\\\\\\\\\"DOWNLOAD\\\\\\\\\\\\\"]}\\\\\"}\"}'"
      ]
     },
     "execution_count": 9,
     "metadata": {},
     "output_type": "execute_result"
    }
   ],
   "source": [
    "servlet_manager.read()"
   ]
  },
  {
   "cell_type": "code",
   "execution_count": 10,
   "metadata": {
    "scrolled": true
   },
   "outputs": [
    {
     "data": {
      "text/plain": [
       "'{\"type\":\"client_id\",\"data\":\"{\\\\\"clientID\\\\\":\\\\\"Connection2\\\\\"}\"}'"
      ]
     },
     "execution_count": 10,
     "metadata": {},
     "output_type": "execute_result"
    }
   ],
   "source": [
    "servlet_manager.read()"
   ]
  },
  {
   "cell_type": "code",
   "execution_count": 11,
   "metadata": {
    "scrolled": true
   },
   "outputs": [
    {
     "data": {
      "text/plain": [
       "''"
      ]
     },
     "execution_count": 11,
     "metadata": {},
     "output_type": "execute_result"
    }
   ],
   "source": [
    "servlet_manager.read()"
   ]
  }
 ],
 "metadata": {
  "kernelspec": {
   "display_name": "Python 3",
   "language": "python",
   "name": "python3"
  },
  "language_info": {
   "codemirror_mode": {
    "name": "ipython",
    "version": 3
   },
   "file_extension": ".py",
   "mimetype": "text/x-python",
   "name": "python",
   "nbconvert_exporter": "python",
   "pygments_lexer": "ipython3",
   "version": "3.6.5"
  }
 },
 "nbformat": 4,
 "nbformat_minor": 2
}
