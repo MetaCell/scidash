{
 "cells": [
  {
   "cell_type": "code",
   "execution_count": 1,
   "metadata": {},
   "outputs": [
    {
     "name": "stderr",
     "output_type": "stream",
     "text": [
      "/Users/roman/.virtualenvs/scidash/lib/python3.6/site-packages/psycopg2/__init__.py:144: UserWarning: The psycopg2 wheel package will be renamed from release 2.8; in order to keep installing from binary please use \"pip install psycopg2-binary\" instead. For details see: <http://initd.org/psycopg/docs/install.html#binary-install-from-pypi>.\n",
      "  \"\"\")\n"
     ]
    }
   ],
   "source": [
    "import os\n",
    "os.environ.setdefault(\"DJANGO_SETTINGS_MODULE\", \"scidash.main.settings\")\n",
    "import django\n",
    "django.setup()\n"
   ]
  },
  {
   "cell_type": "code",
   "execution_count": 2,
   "metadata": {},
   "outputs": [],
   "source": [
    "import pygeppetto_gateway as pg\n",
    "from django.conf import settings\n",
    "from scidash.sciunittests.models import ScoreInstance\n",
    "\n",
    "\n",
    "# score = ScoreInstance.objects.get(pk=4)\n",
    "# print(score)"
   ]
  },
  {
   "cell_type": "code",
   "execution_count": 3,
   "metadata": {
    "scrolled": true
   },
   "outputs": [
    {
     "name": "stdout",
     "output_type": "stream",
     "text": [
      "LEMS_2007One\n",
      "http://localhost:8000/static/projects/jupyter/N/project.json\n"
     ]
    }
   ],
   "source": [
    "builder = pg.GeppettoProjectBuilder(model_url='https://raw.githubusercontent.com/scidash/neuronunit/dash/neuronunit/models/NeuroML2/LEMS_2007One.xml',\n",
    "                                    project_location=f\"{settings.PYGEPPETTO_BUILDER_PROJECT_BASE_URL}/jupyter/N/project.json\",\n",
    "                                    xmi_location=f\"{settings.PYGEPPETTO_BUILDER_PROJECT_BASE_URL}/jupyter/N/model.xmi\",\n",
    "                                    nml_location=f\"{settings.PYGEPPETTO_BUILDER_PROJECT_BASE_URL}/jupyter/N/LEMS_2007One.xml\"\n",
    "                                    )\n",
    "print(builder._model_format)\n",
    "project_url = builder.build_project()\n",
    "\n",
    "print(project_url)"
   ]
  },
  {
   "cell_type": "code",
   "execution_count": 4,
   "metadata": {},
   "outputs": [
    {
     "ename": "NameError",
     "evalue": "name 'score' is not defined",
     "output_type": "error",
     "traceback": [
      "\u001b[0;31m---------------------------------------------------------------------------\u001b[0m",
      "\u001b[0;31mNameError\u001b[0m                                 Traceback (most recent call last)",
      "\u001b[0;32m<ipython-input-4-e685a7629060>\u001b[0m in \u001b[0;36m<module>\u001b[0;34m\u001b[0m\n\u001b[0;32m----> 1\u001b[0;31m \u001b[0mscore\u001b[0m\u001b[0;34m.\u001b[0m\u001b[0mmodel_instance\u001b[0m\u001b[0;34m.\u001b[0m\u001b[0mrun_params\u001b[0m\u001b[0;34m.\u001b[0m\u001b[0mget\u001b[0m\u001b[0;34m(\u001b[0m\u001b[0;34m'stateVariables'\u001b[0m\u001b[0;34m)\u001b[0m\u001b[0;34m\u001b[0m\u001b[0m\n\u001b[0m",
      "\u001b[0;31mNameError\u001b[0m: name 'score' is not defined"
     ]
    }
   ],
   "source": [
    "score.model_instance.run_params.get('stateVariables')"
   ]
  },
  {
   "cell_type": "code",
   "execution_count": 5,
   "metadata": {},
   "outputs": [],
   "source": [
    "servlet_manager = pg.GeppettoServletManager()"
   ]
  },
  {
   "cell_type": "code",
   "execution_count": 6,
   "metadata": {},
   "outputs": [],
   "source": [
    "servlet_manager.handle('load_project_from_url', project_url)"
   ]
  },
  {
   "cell_type": "code",
   "execution_count": 7,
   "metadata": {},
   "outputs": [
    {
     "data": {
      "text/plain": [
       "'{\"type\":\"user_privileges\",\"data\":\"{\\\\\"user_privileges\\\\\":\\\\\"{\\\\\\\\\\\\\"userName\\\\\\\\\\\\\":\\\\\\\\\\\\\"Guest 11\\\\\\\\\\\\\",\\\\\\\\\\\\\"loggedIn\\\\\\\\\\\\\":true,\\\\\\\\\\\\\"hasPersistence\\\\\\\\\\\\\":false,\\\\\\\\\\\\\"privileges\\\\\\\\\\\\\":[\\\\\\\\\\\\\"READ_PROJECT\\\\\\\\\\\\\",\\\\\\\\\\\\\"DOWNLOAD\\\\\\\\\\\\\",\\\\\\\\\\\\\"RUN_EXPERIMENT\\\\\\\\\\\\\"]}\\\\\"}\"}'"
      ]
     },
     "execution_count": 7,
     "metadata": {},
     "output_type": "execute_result"
    }
   ],
   "source": [
    "servlet_manager.read()"
   ]
  },
  {
   "cell_type": "code",
   "execution_count": 8,
   "metadata": {},
   "outputs": [
    {
     "data": {
      "text/plain": [
       "'{\"type\":\"client_id\",\"data\":\"{\\\\\"clientID\\\\\":\\\\\"Connection12\\\\\"}\"}'"
      ]
     },
     "execution_count": 8,
     "metadata": {},
     "output_type": "execute_result"
    }
   ],
   "source": [
    "servlet_manager.read()"
   ]
  },
  {
   "cell_type": "code",
   "execution_count": 10,
   "metadata": {
    "scrolled": true
   },
   "outputs": [
    {
     "data": {
      "text/plain": [
       "b'\\x00\\x1f\\x8b\\x08\\x00\\x00\\x00\\x00\\x00\\x00\\x00\\xed][s\\xda:\\x10\\xfe+\\x1az\\x1e\\x1b0\\xb7\\x90\\xf0\\xd4N\\xd2\\xf6d\\xa6\\xcd\\xc9\\ti^\\x9a\\x0e#\\x8c\\x005\\xbe\\x1d[\\xa6\\xa1\\x1d\\xfe\\xfb\\x91ec[F\\x02\\xe3Khb\\xd3\\x99L\\xac]\\xb4\\xab\\xfdvW\\xd2ZJ\\x7f7l\\xf4\\x9f\\x8b\\x1cru\\xd9\\x186\\xac\\xf9I\\xf0\\xd8x\\xdb +\\x0b\\xd1\\xb69\\xb2,D\\x889\\xd6\\xcd)\\xd2\\xc6\\x9a\\t\\xa7hJ\\xc9SH %\\xff~\\x10s<4\\x86\\x0f\\x94\\xf8\\xf0\\xd0@\\x17\\x1at\\x1c\\xef\\xb7\\xa1\\xf7\\xe3S\\xc0\\xfd\\xc5c\\xf6\\x1a\\xdez?\\xf04d\\x08\\xdb\\x0c\\xa8\\xa3\\xed\\xd6%\\xb41\\x9ch\\xc8\\xef\\xf1\\x9bH\\xc4}\\xc0\"\\xea}\\x8af\\xd0\\xd5\\x08/],\\xc9!\\x90`\\x95\\xb5\\xcf\\xa0\\xe6 \\xd6\\xe8Y%.\\xfa/\\x1b\\xcd\\xc2\\xaf\\xb6Z\\xef4<\\xb1\\xa9x\\xe44\\x95\\xd6;\\xc6\\xdcT<\\xd2\\xfa\\xfb\\xfa\\xed\\xa1\\xba\\x12\\xac#\\xb1\\x8e\\x1c%\\xa7\\x9e\\xed\\x8d\\x9e\\x1d_O_\\x0b\\x03\\x13\\x0c\\xb5{\\xa8\\xb9\\\\7\\x8fh\\x15\\xf62\\x8f#\\xf9fG\\x9f\\x01n\\xb4+\\xf6]\\x91\\x19n\\x16+\\x07\\xabP\\xfb\\xd7\\x85\\x06\\xc1d\\x15\\r\\x8e6bc\\xfe\\x11\\xaa\\xc4\\xb4\\x19\\xbb\\x92\\xe8Ni\\xfa-.UY\\xda\\xff\\xd7\\x80\\xc8s2\\x01l\\xd4k\\x8a\\x8f?\\xf2p\\x10r\\xff\\xda\\xb8\\xf0g\\xc6\\x1a\\xe9\\x1a\\x83\\xce@\\xaem\\xea\\x12\\x0f\\xbb\\xf6\\x88_>\\x87\\xc4$V\\tq\\x17\\xa6n\\x99\\x0e&\\xe8\\x8e\\xf2\\x89\\x849Xo\\x8b%q\\x148q\\x88M\\xed\\x98\\xf0\\x94\\x9c\\x01\\xa5!cN\\x16b\\xf1\\tZ\\xccQ\\x89\\xedf\\xf6S\\xa5\\x04?U\\xca\\xf7\\xd3~\\'\\xa7\\xa7\\xea\\x91\\xab\\x1e\\x9cJ\\x1c\\x82,\\x89\\x8b\\xc4)\\xd5F\\x88\\xe2\\xa3tz\\xe7\\xec\\xd3\\xeb\\xb5;\\xcai\\xaf\\xdf?\\x16b\\x06\"\\x92\\xa0\\xe6(EMRm\\x1f\\xb2\\xc3\\xf5\\x9cJ\\xb4\\x9c\\xee\\xd1\\x11\\x1a\\xa6\\xb1\\xd2M\\xd7\\xb9\\xcb\\x99\\xfdR(PN\\xe6{\\xd2\\xb1!\\x16\\xcdQ\\xaa\\x1dS\\'\\xfd\\x9cY/{\\x04=\\xe9\\xf0I\\x86O\\x8cRm|\\xfa\\x83\\xa3\\xe1\\xb3\\x92\\xc6\\xcf\\xaa\\x8e\\x9f0~\\xce\\x8e\\x88\\x8f,~Vu\\xfc\\x84\\xf1s4x\\xbc=\\xe0\\x88\\xea\\xb7c\\x8b\\xc8\\x93\\xab\\rT\\xfbx\\x8bo\\xaa\\xa9\\x1c%R<B\\xfd\\x12\\x10\\xea\\xa7D\\xe8\\x0e=E\\x16$\\xc1\\x03\\xa3\\xdc\\x8e\\xc0\\xd2\\xb7a\\x06\\x13\\xde\\x8e\\xc6K\\xb1\\x059J\\xb9+\\xcd\\x94J\\x94\\xb3\\xdat\\xe4\\xa1^\\x87yqa~\\x9f\\'\\xcc\\xeb\\x84\\xfc\\x8cH\\xe5H\\xc8\\xaa\\xa9\\xf9Jm\\xa3\\xc4\\x93^uB~\\xa3\\xd0\\xcfl\\xe6\\x9b1\\x83\\x15\\xffKb\\xce\\x19r\\x8b\\xfa\\xaamI\\'\\x00\\xcb\\xb4\\xbe)\\xdf[\\xe1\\x1c\\xb7\\xf9wxE%*\\x9a\\xf3\\x05\\x8d\\xa8\\xbd\\xe4\\x8a\\xca~\\x05\\xea\\x8aJ]Q\\xa9+*B|\\xea\\x8a\\xca\\x9f\\x8dO]Q\\xf9\\xb3\\xf19\\x1e<\\xf5\\x02\\xfe\\xa5,\\xe0\\xeb\\x8a\\x8a\\xf7\\xe3v\\x04\\\\\\xdf\\x86\\xd9**\\xae\\xd8\\x82\\x1c\\xa5\\xf4\\x8aJ\\x1a%\\xea\\x8a\\xca\\xcb\\rs\\xeb}\\x9e0\\xaf\\x13\\xf2\\xf3!UWT\\xd2!\\xb4\\xa3\\xa22\\x9by5\\x15\\xdf\\x8cuE\\xa5\\xa0\\x8aJ8\\xc7e\\xae\\xa8\\x98\\xb3(\\xfa8\\x93\\xc6\\t\\xe5\\xcet\\xa9T(g\\x9e\\x9ba\\r]C\\xd9Q\\xd2-\\xeak\\xf7\\xaa\\x7f\\x0c\\xd4\\x9cB\\x929H%\\xaf\\x80\\x9e\\xeb%\\xd4^\\xf1\\xe58Q\\x9d\\x9a\\xf6\\x16{\\x0f\\xf6$\\xc9\\xd2\\xf7\\xb9\\x16\\xdf{\\xc5\\xd7\\x9e\\xf4\\x92&9v\\xfb\\xe2\\x129\\xaa\\x8d-\\x82MI!\\x90\\x8d\\x07\\x88\\xd8\\x8a\\xbaF\\xd0-\\xc1\\xd2\\xdd\\x94\\x96\\xfe\\xfb.v\\xac~A\\xfc\\x03\\xf8\\x8cr\\x8d\\xc8O\\xd3~\\x1c\\x82\\x07WQ\\xba*\\x04\\x0bo$\\xde\\xef\\x9e\\x05\\xbdO\\xe3\\xcd\\xe6\\x17\\x80\\rj\\x0cCE7\\x90,x\\x1e\\xa6d38\\xdd\\xdf\\x0cN\\xe22\\n\\xe3C\\xac\\x85IhA\\xbf\\xc5\\x7f\\x9a\\xd8-\\xf1#\\xfd\\x18\\x1b\\x95\\x08\\xb4\\xe7\\x88\\xf0\\x02\\xc7\\x13\\r\\x1a\\x8f\\xa1f\\xdbZ/\\x08\\xb1\\x86\\xad\\x96f\\xd2\\xed\\xc1\\xc2t\\xc8\\xf0\\x8c\\xae@[>\\x98-\\xcb6\\x7f \\x958\\xad\\x1f\\xae\\xb5\"\\xc8n]\\xb7>\\x7f\\xf82\\x1aw\\x14e\\xe0\\xcd\\x83O\\xccB1\\xfd}U\\xb0\\xffp\\x8f\\xd1O@\\x16\\x08\\x986\\x9ec\\x03j \\xb8\\xb9\\x00:\\xc01][E\\xc0[=\\x04\\xe3\\xc5\\xf1\\x1e\\x0e\\x1e\\xfd\\xc4o\\xb91-W\\x83\\x9e_:AG\\x13\\xf97\\xfd\\xe8)\\x16\\xd2\\xdb\\x11o\\x906P\\x91\\xa69\\xc0\\x9c\\x01\\xcf\\x15\\x01\\xa5\\xef\\x1c`lD\\xf2Q^x]\\xee\\x1c\\x1f\\x00\\x9cg\\x941\\xb2\\xad\\x91\\x88T\\xdf7\\x92+\\xc3rI\\n\\xa8\\x8a\\x1d\\xc8\\xf8\\xcaO\\xa2\\xdch\\xfc\\xc6\\xfdCbma\\xb2\\x15\\xa6\\xd9\\xbdSg\\xca\\xc3\\xf9\\x92\\t\\xd4q-do\\xbaN\\x7fD\\xff\\xec!J\\xac9\\xe7`?r\\xc4#H\\xd0\\x8a\\xba`p\\xeak\\x7f\\xf8\\xbc\\x86\\x9e,\\r\\xab\\x980W\\x13\\xab\\xfc!`\\x01<O\\xb9\\xcb\\xa7\\xecz\\x95\\xb3\\xae\\x9a\"\\x87\\xd0$-\\x9f\\xfaE\\x0c\\xafzu\\xe5\\xac\\x0ch9\\xc8\\xd9D{\\x96\\x1a\\xf9U\\xbc\\xf7d\\x9cp\\xc4\\xa2\\x02\\xa5\\x935P\\x82\\xe5\\x83P\\xd9\\x04\\xedU\\xc3\\x1e.\\xaa3\\xe3\\x8e\\xe5!-\\xcd0\\xaf\\xd2\\x8e\\x1b\\x07_\\xef\\xde\\x96\\xa4y\\xcf\\x93>\\x90\\x8a\\x9d5{1\\xdb\\xe6\\xce\\xb0\\x1a\\x94l[/9R\\xb5_C\\x1c\\xf1\\x9a\\xeb\\xd4\\xb5wL\\x80\\x97Ij\\xb5q:\\xea\\x85d\\xa8\\xd3\\xa5\\x11q\\xa7\\x92\\xaa\\xf4\\xfb-r\\xb5\\xb1j+9\\xb1\\xca\\xf3\\x1a\\x16\\x8b1\\xba\\x12aS\\xff\\x05\\x8a\\x83\\xa1\\xc9\\x81\\xccs.P\\xff\\xf0\\x02\\xdfq*\\x0c E\\xc1\\x84\\xad\\r\\x86@\\xd1\\x1d!5\\x98\\x94\\x86\\x80\\xe6c1K\\x98\\x0c\\x87\\x80\\xe6\\x01@C9GI\\xe3\\x1e;.\\xd4d\\x0b5\\xdd\\xb4\\xad\\x85\\xa9\\x99\\xf3\\xd5\\xd8\\xb1\\x16\\xc8\\x96\\xa4g9[9{[V\\xbb\\x12\\xbax\\xe1\\xde\\x1d\\xaf\\xb2\\x14\\xe5\\xddg)\\xbd{\\xc4\\xdb\\xd2\\x86S\\xec\\xfa\\xd4v\\xb3\\xc3\\x9a\\x18\\x86\\xc1\\x12F\\x9c\\xc6LlD!\\xcf\\xce\\x94\\x86\\xf9i\\xc5=\\xfd\\xda<\\xadw\\xb8\\xcd\\x08S\\xdf\\x93.\\xeb-\\x97\\x1a\\xfa\\x132\\x10ua\\xd9\\xf1\\x0f\\t\\xcf\\xb6\\x9fdQ\\xc0\\xab\\xcd\\x8a\\xc5r\\x94\\xb4\\xc2\\xde\\xdb6\\\\\\xed\\xd8\\xc3\\xa4\\xad\\x99\\xc9v0\\xf8W0\\x9b\\xe7\\xd9\\xd0\\x9c\\xc7\\x1c\\x14\\xc6\\x15\\x1e\\xa6\\xeda\\xc0z`\\x1d\\x04\\x7f\\x0e\\xeb~\\xa7[2\\xb3\\x84,\\xeb\\xcc{\\xc0\\xbd1\\\\\\xec\\xce/\\xbe\\xab^rY/\\xb5\\xa5\\xba\\x91\\xa5rf\\xb0\\xa5\\xe4\\xf8\\xc7Rx\\x00\\xa5\\x82+\\xdc\\x93\\xd3\\xbc\\xbb\\x91\\x1cW7\\x1f\\xc5\\xe0D\\xcd\\xd5\\xc6Fi\\x9e\\xfa\\x7f\\x15\\xe9\\xecL\\x19\\x9c+\\x83v\\x1e\\x9c\\x0c\\x9a+\\x91=\\xce\\x03\\xd7R2\\xd7,\\x0b?g\\xf8B\\x01;j0-%\\xfb\\x91\\xa5p+REtz\\xc7D\\xc7BP\\x92\\xeexR\\xb51\\xea\\xf6\\x8f\\x07\\x11\\x14\\xc3\\x135W\\x1b\\x1a\\x1a<\\x1d\\x7f::\\xefv\\xce{\\xbd\\xc1\\xa0w\\x9a\\xab4\\xe6\\xcdF9J\\x99\\x131\\\\Qs\\xb5\\xe1:\\xe9\\xe4\\x8b$c\\x94\\x1d\\x1aU\\x0cM\\xd4\\\\qh\\xf2^%\\xcf\\x93\\xe5\\xa6bl\\xa2\\xe6jcs\\xd4\\x8a\\xff\\x85\\x18\\x9b\\xa8\\xb9\\xc6&\\x1f6\\x1f\\xb3c\\x93\\xed\\xd4x\\xfd6\\xa6\\xfc\\xb71x\\xb4\\x92\\xbcy\\xe6(5>\\xc7\\xc2\\xe7\\x0b\\xd2%\\x8b5\\x9eT#t$\\x84$\\x97\\x9bnL\\x82\\x0c\\xcfz5B\\x85 \\x94c\\xd5fP(\\x1c1J\\xd7\\x1c\\xa9\\no\\x9bc\\xc7\\xf97\\xb7\\x106\\x87\\xe0K\\xbd\\x94\\xb0\\xef\\x12\\x82\\xe0\\xf5\\xb0\\xf7\\xeac\\x18\\xde\\xdf\\xb8\\xfa\\xb5\\xc0\\x8fh\\x89\\xd5\\x85w\\x13\\xc4\\xd3_\\xf4\\x1d8\\x04\\xd4\\xd1\\xba \\xd8 \\x0b8&Cp\\xd2\\x01\\xc6HDS)\\xad\\xaf\\x00\\xbaE\\x10\\x10\\xa7\\xbb^e?zr\\x07 *\\x14\\x0bx\\x96\\n\\xed\\xfeT\\x91\\x10\\x81W\\xc9\\x1a\\x82n_\"~\\tl\\xe4 \\xc2\\xba\\x90\\xb2\\x10\\n\\x9d\\xb305\\xaa\\xebIO\\xc6\\xe6GR\\xc6\\xf7\\xa7\\x86\\x7f)I\\x1cNIb1oL\\xad\\xf0\\x82\\x8dX\\xaa\\x80.\\x10,\\x19m\\x8a\\xff\\x18E5u]&{\\xf3up\\xc1\\x98@\\xb2\\x9bd\\xf6H\\xe6Sh\\xd3\\xdeH\\xf4\\xaa0);d\\x10\\x8b\\xdf&\\xa75\\xf9\\xe5\\x8av\\x84UG&xC\\x17\\xcb\\xdd\\xa2\\xa6F\\x9a\\xa6X\\xb4I\\xd62\\xd9\\x1c\\x93X\\x01\\xc6\\x02\\xb6x\\xd2\\xaa\\xe1eI\\x99t.\\x83rB9JZQ_o\\xa5\\x92(I,(NH+\\xc7;\\x14-\\x13t\\'=pu\\xb7\\xfb\\x14\\xb3X\\x14;\\xb0!\\xf5X\\xee4GbM\\x14\\'\\xa5\\x95\\xf6\\xe1\\xc9\\xa2I\\xcd\\xa1\\xe1-\\x13\\x19q\\x88\\xe5\\n\\xe8i\\x85\\xef>z\\xe4S\\xc5B\\x13\\xb4\\x83l\\xbb#\\x1f\\xf8\\xe4\\x1d\\xf6\\xcd\\x90\\x0b\\xaet8\\x97\\x06##\\x8a\\xe5\\xf1\\xa4\\xb4\\xd2.L\\xc3@*\\xd9\\x81\\xa7\\x1ar\\x88\\xe5^l\\xd3\\x8b\\xc1\\xd3\\x826]\\x00j\\xb2\\xd5\\xe2\\xcd\\x16Y8\\xcf|_\\xd3\\xf9\\xb5\\xb1\\xfe\\x1f\\x9e\\x84|\\xac\\xa8n\\x00\\x00'"
      ]
     },
     "execution_count": 10,
     "metadata": {},
     "output_type": "execute_result"
    }
   ],
   "source": [
    "servlet_manager.read()"
   ]
  },
  {
   "cell_type": "code",
   "execution_count": 11,
   "metadata": {},
   "outputs": [
    {
     "data": {
      "text/plain": [
       "[]"
      ]
     },
     "execution_count": 11,
     "metadata": {},
     "output_type": "execute_result"
    }
   ],
   "source": [
    "builder._watched_variables"
   ]
  },
  {
   "cell_type": "code",
   "execution_count": 12,
   "metadata": {},
   "outputs": [],
   "source": [
    "import json\n",
    "servlet_manager.handle('run_experiment', json.dumps({'projectId': '1768240471', 'experimentId': '1'}))"
   ]
  },
  {
   "cell_type": "code",
   "execution_count": 13,
   "metadata": {},
   "outputs": [
    {
     "data": {
      "text/plain": [
       "'{\"type\":\"user_privileges\",\"data\":\"{\\\\\"user_privileges\\\\\":\\\\\"{\\\\\\\\\\\\\"userName\\\\\\\\\\\\\":\\\\\\\\\\\\\"Guest 11\\\\\\\\\\\\\",\\\\\\\\\\\\\"loggedIn\\\\\\\\\\\\\":true,\\\\\\\\\\\\\"hasPersistence\\\\\\\\\\\\\":false,\\\\\\\\\\\\\"privileges\\\\\\\\\\\\\":[\\\\\\\\\\\\\"READ_PROJECT\\\\\\\\\\\\\",\\\\\\\\\\\\\"DOWNLOAD\\\\\\\\\\\\\",\\\\\\\\\\\\\"RUN_EXPERIMENT\\\\\\\\\\\\\"]}\\\\\"}\"}'"
      ]
     },
     "execution_count": 13,
     "metadata": {},
     "output_type": "execute_result"
    }
   ],
   "source": [
    "servlet_manager.read()"
   ]
  },
  {
   "cell_type": "code",
   "execution_count": 14,
   "metadata": {},
   "outputs": [
    {
     "data": {
      "text/plain": [
       "'{\"type\":\"client_id\",\"data\":\"{\\\\\"clientID\\\\\":\\\\\"Connection13\\\\\"}\"}'"
      ]
     },
     "execution_count": 14,
     "metadata": {},
     "output_type": "execute_result"
    }
   ],
   "source": [
    "servlet_manager.read()"
   ]
  },
  {
   "cell_type": "code",
   "execution_count": null,
   "metadata": {},
   "outputs": [],
   "source": []
  }
 ],
 "metadata": {
  "kernelspec": {
   "display_name": "Python 3",
   "language": "python",
   "name": "python3"
  },
  "language_info": {
   "codemirror_mode": {
    "name": "ipython",
    "version": 3
   },
   "file_extension": ".py",
   "mimetype": "text/x-python",
   "name": "python",
   "nbconvert_exporter": "python",
   "pygments_lexer": "ipython3",
   "version": "3.6.5"
  }
 },
 "nbformat": 4,
 "nbformat_minor": 2
}
