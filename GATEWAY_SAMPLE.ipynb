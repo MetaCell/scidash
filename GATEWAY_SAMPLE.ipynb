{
 "cells": [
  {
   "cell_type": "code",
   "execution_count": 1,
   "metadata": {},
   "outputs": [
    {
     "name": "stderr",
     "output_type": "stream",
     "text": [
      "/Users/roman/.virtualenvs/scidash/lib/python3.6/site-packages/psycopg2/__init__.py:144: UserWarning: The psycopg2 wheel package will be renamed from release 2.8; in order to keep installing from binary please use \"pip install psycopg2-binary\" instead. For details see: <http://initd.org/psycopg/docs/install.html#binary-install-from-pypi>.\n",
      "  \"\"\")\n"
     ]
    }
   ],
   "source": [
    "import os\n",
    "os.environ.setdefault(\"DJANGO_SETTINGS_MODULE\", \"scidash.main.settings\")\n",
    "import django\n",
    "django.setup()"
   ]
  },
  {
   "cell_type": "code",
   "execution_count": 2,
   "metadata": {},
   "outputs": [],
   "source": [
    "import pygeppetto_gateway as pg\n",
    "from django.conf import settings\n",
    "from scidash.sciunittests.models import ScoreInstance"
   ]
  },
  {
   "cell_type": "code",
   "execution_count": 3,
   "metadata": {
    "scrolled": true
   },
   "outputs": [
    {
     "name": "stdout",
     "output_type": "stream",
     "text": [
      "Processing bask.cell.nml\n",
      "Processing Kdr_bask.channel.nml\n",
      "Processing LeakConductance_bask.channel.nml\n",
      "Processing Na_bask.channel.nml\n"
     ]
    }
   ],
   "source": [
    "builder = pg.GeppettoProjectBuilder(model_url='https://raw.githubusercontent.com/OpenSourceBrain/ACnet2/master/neuroConstruct/generatedNeuroML2/BasketCell.net.nml',\n",
    "                                    project_location=f\"{settings.PYGEPPETTO_BUILDER_PROJECT_BASE_URL}/jupyter/OSB/project.json\",\n",
    "                                    xmi_location=f\"{settings.PYGEPPETTO_BUILDER_PROJECT_BASE_URL}/jupyter/OSB/model.xmi\",\n",
    "                                    nml_location=f\"{settings.PYGEPPETTO_BUILDER_PROJECT_BASE_URL}/jupyter/OSB/BasketCell.net.nml\",\n",
    "                                    watched_variables=[\"defaultModel.baskets[0].biophys.membraneProperties.Kdr_bask_soma_group.Kdr_bask.n.forwardRate.r\", \"defaultModel.baskets[0].biophys.membraneProperties.Kdr_bask_soma_group.Kdr_bask.n.reverseRate.r\", \"defaultModel.baskets[0].biophys.membraneProperties.Kdr_bask_soma_group.Kdr_bask.n.alpha\", \"defaultModel.baskets[0].biophys.membraneProperties.Kdr_bask_soma_group.Kdr_bask.n.beta\", \"defaultModel.baskets[0].biophys.membraneProperties.Kdr_bask_soma_group.Kdr_bask.n.tau\", \"defaultModel.baskets[0].biophys.membraneProperties.Kdr_bask_soma_group.Kdr_bask.n.inf\", \"defaultModel.baskets[0].biophys.membraneProperties.Kdr_bask_soma_group.Kdr_bask.n.rateScale\", \"defaultModel.baskets[0].biophys.membraneProperties.Kdr_bask_soma_group.Kdr_bask.n.fcond\", \"defaultModel.baskets[0].biophys.membraneProperties.Kdr_bask_soma_group.Kdr_bask.n.q\", \"defaultModel.baskets[0].biophys.membraneProperties.Kdr_bask_soma_group.Kdr_bask.g\", \"defaultModel.baskets[0].biophys.membraneProperties.Kdr_bask_soma_group.Kdr_bask.fopen\", \"defaultModel.baskets[0].biophys.membraneProperties.Kdr_bask_soma_group.gDensity\", \"defaultModel.baskets[0].biophys.membraneProperties.Kdr_bask_soma_group.iDensity\", \"defaultModel.baskets[0].biophys.membraneProperties.LeakConductance_bask_all.LeakConductance_bask.g\", \"defaultModel.baskets[0].biophys.membraneProperties.LeakConductance_bask_all.LeakConductance_bask.fopen\", \"defaultModel.baskets[0].biophys.membraneProperties.LeakConductance_bask_all.gDensity\", \"defaultModel.baskets[0].biophys.membraneProperties.LeakConductance_bask_all.iDensity\", \"defaultModel.baskets[0].biophys.membraneProperties.Na_bask_soma_group.Na_bask.m.forwardRate.r\", \"defaultModel.baskets[0].biophys.membraneProperties.Na_bask_soma_group.Na_bask.m.reverseRate.r\", \"defaultModel.baskets[0].biophys.membraneProperties.Na_bask_soma_group.Na_bask.m.alpha\", \"defaultModel.baskets[0].biophys.membraneProperties.Na_bask_soma_group.Na_bask.m.beta\", \"defaultModel.baskets[0].biophys.membraneProperties.Na_bask_soma_group.Na_bask.m.tau\", \"defaultModel.baskets[0].biophys.membraneProperties.Na_bask_soma_group.Na_bask.m.inf\", \"defaultModel.baskets[0].biophys.membraneProperties.Na_bask_soma_group.Na_bask.m.rateScale\", \"defaultModel.baskets[0].biophys.membraneProperties.Na_bask_soma_group.Na_bask.m.fcond\", \"defaultModel.baskets[0].biophys.membraneProperties.Na_bask_soma_group.Na_bask.m.q\", \"defaultModel.baskets[0].biophys.membraneProperties.Na_bask_soma_group.Na_bask.h.forwardRate.r\", \"defaultModel.baskets[0].biophys.membraneProperties.Na_bask_soma_group.Na_bask.h.reverseRate.r\", \"defaultModel.baskets[0].biophys.membraneProperties.Na_bask_soma_group.Na_bask.h.alpha\", \"defaultModel.baskets[0].biophys.membraneProperties.Na_bask_soma_group.Na_bask.h.beta\", \"defaultModel.baskets[0].biophys.membraneProperties.Na_bask_soma_group.Na_bask.h.tau\", \"defaultModel.baskets[0].biophys.membraneProperties.Na_bask_soma_group.Na_bask.h.inf\", \"defaultModel.baskets[0].biophys.membraneProperties.Na_bask_soma_group.Na_bask.h.rateScale\", \"defaultModel.baskets[0].biophys.membraneProperties.Na_bask_soma_group.Na_bask.h.fcond\", \"defaultModel.baskets[0].biophys.membraneProperties.Na_bask_soma_group.Na_bask.h.q\", \"defaultModel.baskets[0].biophys.membraneProperties.Na_bask_soma_group.Na_bask.g\", \"defaultModel.baskets[0].biophys.membraneProperties.Na_bask_soma_group.Na_bask.fopen\", \"defaultModel.baskets[0].biophys.membraneProperties.Na_bask_soma_group.gDensity\", \"defaultModel.baskets[0].biophys.membraneProperties.Na_bask_soma_group.iDensity\", \"defaultModel.baskets[0].biophys.membraneProperties.specificCapacitance.specCap\", \"defaultModel.baskets[0].biophys.membraneProperties.totChanCurrent\", \"defaultModel.baskets[0].biophys.membraneProperties.iCa\", \"defaultModel.baskets[0].biophys.membraneProperties.totSpecCap\", \"defaultModel.baskets[0].biophys.totSpecCap\", \"defaultModel.baskets[0].iChannels\", \"defaultModel.baskets[0].iSyn\", \"defaultModel.baskets[0].totSpecCap\", \"defaultModel.baskets[0].surfaceArea\", \"defaultModel.baskets[0].iCa\", \"defaultModel.baskets[0].soma_0.spiking\", \"defaultModel.baskets[0].soma_0.v\", \"defaultModel.baskets[0].dend_1.spiking\", \"defaultModel.baskets[0].dend_1.v\", \"defaultModel.baskets[0].Input_0.i\", \"time\"]\n",
    "                                    )\n",
    "project_url = builder.build_project()"
   ]
  },
  {
   "cell_type": "code",
   "execution_count": 4,
   "metadata": {},
   "outputs": [],
   "source": [
    "servlet_manager = pg.GeppettoServletManager()"
   ]
  },
  {
   "cell_type": "code",
   "execution_count": 5,
   "metadata": {},
   "outputs": [],
   "source": [
    "servlet_manager.handle('load_project_from_url', project_url)"
   ]
  },
  {
   "cell_type": "code",
   "execution_count": 6,
   "metadata": {},
   "outputs": [
    {
     "data": {
      "text/plain": [
       "'{\"type\":\"user_privileges\",\"data\":\"{\\\\\"user_privileges\\\\\":\\\\\"{\\\\\\\\\\\\\"userName\\\\\\\\\\\\\":\\\\\\\\\\\\\"Guest 5\\\\\\\\\\\\\",\\\\\\\\\\\\\"loggedIn\\\\\\\\\\\\\":true,\\\\\\\\\\\\\"hasPersistence\\\\\\\\\\\\\":false,\\\\\\\\\\\\\"privileges\\\\\\\\\\\\\":[\\\\\\\\\\\\\"READ_PROJECT\\\\\\\\\\\\\",\\\\\\\\\\\\\"DOWNLOAD\\\\\\\\\\\\\",\\\\\\\\\\\\\"RUN_EXPERIMENT\\\\\\\\\\\\\"]}\\\\\"}\"}'"
      ]
     },
     "execution_count": 6,
     "metadata": {},
     "output_type": "execute_result"
    }
   ],
   "source": [
    "servlet_manager.read()"
   ]
  },
  {
   "cell_type": "code",
   "execution_count": 7,
   "metadata": {},
   "outputs": [
    {
     "data": {
      "text/plain": [
       "'{\"type\":\"client_id\",\"data\":\"{\\\\\"clientID\\\\\":\\\\\"Connection8\\\\\"}\"}'"
      ]
     },
     "execution_count": 7,
     "metadata": {},
     "output_type": "execute_result"
    }
   ],
   "source": [
    "servlet_manager.read()"
   ]
  },
  {
   "cell_type": "code",
   "execution_count": 8,
   "metadata": {
    "scrolled": true
   },
   "outputs": [
    {
     "data": {
      "text/plain": [
       "'{\"requestID\":\"pg-request\",\"type\":\"project_loaded\",\"data\":\"{\\\\\"project_loaded\\\\\":\\\\\"{\\\\\\\\\\\\\"persisted\\\\\\\\\\\\\":false,\\\\\\\\\\\\\"project\\\\\\\\\\\\\":{\\\\\\\\\\\\\"id\\\\\\\\\\\\\":579662685,\\\\\\\\\\\\\"name\\\\\\\\\\\\\":\\\\\\\\\\\\\"defaultProject\\\\\\\\\\\\\",\\\\\\\\\\\\\"experiments\\\\\\\\\\\\\":[{\\\\\\\\\\\\\"id\\\\\\\\\\\\\":1,\\\\\\\\\\\\\"aspectConfigurations\\\\\\\\\\\\\":[{\\\\\\\\\\\\\"id\\\\\\\\\\\\\":1,\\\\\\\\\\\\\"instance\\\\\\\\\\\\\":\\\\\\\\\\\\\"defaultModel\\\\\\\\\\\\\",\\\\\\\\\\\\\"watchedVariables\\\\\\\\\\\\\":[\\\\\\\\\\\\\"defaultModel.baskets[0].biophys.membraneProperties.Kdr_bask_soma_group.Kdr_bask.n.forwardRate.r\\\\\\\\\\\\\",\\\\\\\\\\\\\"defaultModel.baskets[0].biophys.membraneProperties.Kdr_bask_soma_group.Kdr_bask.n.reverseRate.r\\\\\\\\\\\\\",\\\\\\\\\\\\\"defaultModel.baskets[0].biophys.membraneProperties.Kdr_bask_soma_group.Kdr_bask.n.alpha\\\\\\\\\\\\\",\\\\\\\\\\\\\"defaultModel.baskets[0].biophys.membraneProperties.Kdr_bask_soma_group.Kdr_bask.n.beta\\\\\\\\\\\\\",\\\\\\\\\\\\\"defaultModel.baskets[0].biophys.membraneProperties.Kdr_bask_soma_group.Kdr_bask.n.tau\\\\\\\\\\\\\",\\\\\\\\\\\\\"defaultModel.baskets[0].biophys.membraneProperties.Kdr_bask_soma_group.Kdr_bask.n.inf\\\\\\\\\\\\\",\\\\\\\\\\\\\"defaultModel.baskets[0].biophys.membraneProperties.Kdr_bask_soma_group.Kdr_bask.n.rateScale\\\\\\\\\\\\\",\\\\\\\\\\\\\"defaultModel.baskets[0].biophys.membraneProperties.Kdr_bask_soma_group.Kdr_bask.n.fcond\\\\\\\\\\\\\",\\\\\\\\\\\\\"defaultModel.baskets[0].biophys.membraneProperties.Kdr_bask_soma_group.Kdr_bask.n.q\\\\\\\\\\\\\",\\\\\\\\\\\\\"defaultModel.baskets[0].biophys.membraneProperties.Kdr_bask_soma_group.Kdr_bask.g\\\\\\\\\\\\\",\\\\\\\\\\\\\"defaultModel.baskets[0].biophys.membraneProperties.Kdr_bask_soma_group.Kdr_bask.fopen\\\\\\\\\\\\\",\\\\\\\\\\\\\"defaultModel.baskets[0].biophys.membraneProperties.Kdr_bask_soma_group.gDensity\\\\\\\\\\\\\",\\\\\\\\\\\\\"defaultModel.baskets[0].biophys.membraneProperties.Kdr_bask_soma_group.iDensity\\\\\\\\\\\\\",\\\\\\\\\\\\\"defaultModel.baskets[0].biophys.membraneProperties.LeakConductance_bask_all.LeakConductance_bask.g\\\\\\\\\\\\\",\\\\\\\\\\\\\"defaultModel.baskets[0].biophys.membraneProperties.LeakConductance_bask_all.LeakConductance_bask.fopen\\\\\\\\\\\\\",\\\\\\\\\\\\\"defaultModel.baskets[0].biophys.membraneProperties.LeakConductance_bask_all.gDensity\\\\\\\\\\\\\",\\\\\\\\\\\\\"defaultModel.baskets[0].biophys.membraneProperties.LeakConductance_bask_all.iDensity\\\\\\\\\\\\\",\\\\\\\\\\\\\"defaultModel.baskets[0].biophys.membraneProperties.Na_bask_soma_group.Na_bask.m.forwardRate.r\\\\\\\\\\\\\",\\\\\\\\\\\\\"defaultModel.baskets[0].biophys.membraneProperties.Na_bask_soma_group.Na_bask.m.reverseRate.r\\\\\\\\\\\\\",\\\\\\\\\\\\\"defaultModel.baskets[0].biophys.membraneProperties.Na_bask_soma_group.Na_bask.m.alpha\\\\\\\\\\\\\",\\\\\\\\\\\\\"defaultModel.baskets[0].biophys.membraneProperties.Na_bask_soma_group.Na_bask.m.beta\\\\\\\\\\\\\",\\\\\\\\\\\\\"defaultModel.baskets[0].biophys.membraneProperties.Na_bask_soma_group.Na_bask.m.tau\\\\\\\\\\\\\",\\\\\\\\\\\\\"defaultModel.baskets[0].biophys.membraneProperties.Na_bask_soma_group.Na_bask.m.inf\\\\\\\\\\\\\",\\\\\\\\\\\\\"defaultModel.baskets[0].biophys.membraneProperties.Na_bask_soma_group.Na_bask.m.rateScale\\\\\\\\\\\\\",\\\\\\\\\\\\\"defaultModel.baskets[0].biophys.membraneProperties.Na_bask_soma_group.Na_bask.m.fcond\\\\\\\\\\\\\",\\\\\\\\\\\\\"defaultModel.baskets[0].biophys.membraneProperties.Na_bask_soma_group.Na_bask.m.q\\\\\\\\\\\\\",\\\\\\\\\\\\\"defaultModel.baskets[0].biophys.membraneProperties.Na_bask_soma_group.Na_bask.h.forwardRate.r\\\\\\\\\\\\\",\\\\\\\\\\\\\"defaultModel.baskets[0].biophys.membraneProperties.Na_bask_soma_group.Na_bask.h.reverseRate.r\\\\\\\\\\\\\",\\\\\\\\\\\\\"defaultModel.baskets[0].biophys.membraneProperties.Na_bask_soma_group.Na_bask.h.alpha\\\\\\\\\\\\\",\\\\\\\\\\\\\"defaultModel.baskets[0].biophys.membraneProperties.Na_bask_soma_group.Na_bask.h.beta\\\\\\\\\\\\\",\\\\\\\\\\\\\"defaultModel.baskets[0].biophys.membraneProperties.Na_bask_soma_group.Na_bask.h.tau\\\\\\\\\\\\\",\\\\\\\\\\\\\"defaultModel.baskets[0].biophys.membraneProperties.Na_bask_soma_group.Na_bask.h.inf\\\\\\\\\\\\\",\\\\\\\\\\\\\"defaultModel.baskets[0].biophys.membraneProperties.Na_bask_soma_group.Na_bask.h.rateScale\\\\\\\\\\\\\",\\\\\\\\\\\\\"defaultModel.baskets[0].biophys.membraneProperties.Na_bask_soma_group.Na_bask.h.fcond\\\\\\\\\\\\\",\\\\\\\\\\\\\"defaultModel.baskets[0].biophys.membraneProperties.Na_bask_soma_group.Na_bask.h.q\\\\\\\\\\\\\",\\\\\\\\\\\\\"defaultModel.baskets[0].biophys.membraneProperties.Na_bask_soma_group.Na_bask.g\\\\\\\\\\\\\",\\\\\\\\\\\\\"defaultModel.baskets[0].biophys.membraneProperties.Na_bask_soma_group.Na_bask.fopen\\\\\\\\\\\\\",\\\\\\\\\\\\\"defaultModel.baskets[0].biophys.membraneProperties.Na_bask_soma_group.gDensity\\\\\\\\\\\\\",\\\\\\\\\\\\\"defaultModel.baskets[0].biophys.membraneProperties.Na_bask_soma_group.iDensity\\\\\\\\\\\\\",\\\\\\\\\\\\\"defaultModel.baskets[0].biophys.membraneProperties.specificCapacitance.specCap\\\\\\\\\\\\\",\\\\\\\\\\\\\"defaultModel.baskets[0].biophys.membraneProperties.totChanCurrent\\\\\\\\\\\\\",\\\\\\\\\\\\\"defaultModel.baskets[0].biophys.membraneProperties.iCa\\\\\\\\\\\\\",\\\\\\\\\\\\\"defaultModel.baskets[0].biophys.membraneProperties.totSpecCap\\\\\\\\\\\\\",\\\\\\\\\\\\\"defaultModel.baskets[0].biophys.totSpecCap\\\\\\\\\\\\\",\\\\\\\\\\\\\"defaultModel.baskets[0].iChannels\\\\\\\\\\\\\",\\\\\\\\\\\\\"defaultModel.baskets[0].iSyn\\\\\\\\\\\\\",\\\\\\\\\\\\\"defaultModel.baskets[0].totSpecCap\\\\\\\\\\\\\",\\\\\\\\\\\\\"defaultModel.baskets[0].surfaceArea\\\\\\\\\\\\\",\\\\\\\\\\\\\"defaultModel.baskets[0].iCa\\\\\\\\\\\\\",\\\\\\\\\\\\\"defaultModel.baskets[0].soma_0.spiking\\\\\\\\\\\\\",\\\\\\\\\\\\\"defaultModel.baskets[0].soma_0.v\\\\\\\\\\\\\",\\\\\\\\\\\\\"defaultModel.baskets[0].dend_1.spiking\\\\\\\\\\\\\",\\\\\\\\\\\\\"defaultModel.baskets[0].dend_1.v\\\\\\\\\\\\\",\\\\\\\\\\\\\"defaultModel.baskets[0].Input_0.i\\\\\\\\\\\\\",\\\\\\\\\\\\\"time\\\\\\\\\\\\\"],\\\\\\\\\\\\\"simulatorConfiguration\\\\\\\\\\\\\":{\\\\\\\\\\\\\"id\\\\\\\\\\\\\":1,\\\\\\\\\\\\\"simulatorId\\\\\\\\\\\\\":\\\\\\\\\\\\\"scidashSimulator\\\\\\\\\\\\\",\\\\\\\\\\\\\"timestep\\\\\\\\\\\\\":5.0E-5,\\\\\\\\\\\\\"length\\\\\\\\\\\\\":0.3,\\\\\\\\\\\\\"parameters\\\\\\\\\\\\\":{\\\\\\\\\\\\\"target\\\\\\\\\\\\\":\\\\\\\\\\\\\"network_ACnet2\\\\\\\\\\\\\",\\\\\\\\\\\\\"scoreID\\\\\\\\\\\\\":\\\\\\\\\\\\\"NULL\\\\\\\\\\\\\"}}}],\\\\\\\\\\\\\"name\\\\\\\\\\\\\":\\\\\\\\\\\\\"defaultProject\\\\\\\\\\\\\",\\\\\\\\\\\\\"status\\\\\\\\\\\\\":\\\\\\\\\\\\\"DESIGN\\\\\\\\\\\\\"}],\\\\\\\\\\\\\"geppettoModel\\\\\\\\\\\\\":{\\\\\\\\\\\\\"id\\\\\\\\\\\\\":1,\\\\\\\\\\\\\"url\\\\\\\\\\\\\":\\\\\\\\\\\\\"http://localhost:8000/static/projects/jupyter/OSB/model.xmi\\\\\\\\\\\\\",\\\\\\\\\\\\\"type\\\\\\\\\\\\\":\\\\\\\\\\\\\"GEPPETTO_PROJECT\\\\\\\\\\\\\"},\\\\\\\\\\\\\"activeExperimentId\\\\\\\\\\\\\":1,\\\\\\\\\\\\\"isPublic\\\\\\\\\\\\\":false,\\\\\\\\\\\\\"view\\\\\\\\\\\\\":{\\\\\\\\\\\\\"id\\\\\\\\\\\\\":1,\\\\\\\\\\\\\"viewStates\\\\\\\\\\\\\":\\\\\\\\\\\\\"{\\\\\\\\\\\\\\\\\\\\\\\\\\\\\"views\\\\\\\\\\\\\\\\\\\\\\\\\\\\\":{\\\\\\\\\\\\\\\\\\\\\\\\\\\\\"Canvas1\\\\\\\\\\\\\\\\\\\\\\\\\\\\\":{\\\\\\\\\\\\\\\\\\\\\\\\\\\\\"widgetType\\\\\\\\\\\\\\\\\\\\\\\\\\\\\":\\\\\\\\\\\\\\\\\\\\\\\\\\\\\"CANVAS\\\\\\\\\\\\\\\\\\\\\\\\\\\\\",\\\\\\\\\\\\\\\\\\\\\\\\\\\\\"componentSpecific\\\\\\\\\\\\\\\\\\\\\\\\\\\\\":{\\\\\\\\\\\\\\\\\\\\\\\\\\\\\"radiusMap\\\\\\\\\\\\\\\\\\\\\\\\\\\\\":{},\\\\\\\\\\\\\\\\\\\\\\\\\\\\\"colorMap\\\\\\\\\\\\\\\\\\\\\\\\\\\\\":{}}}}}\\\\\\\\\\\\\"}},\\\\\\\\\\\\\"isReadOnly\\\\\\\\\\\\\":false}\\\\\"}\"}'"
      ]
     },
     "execution_count": 8,
     "metadata": {},
     "output_type": "execute_result"
    }
   ],
   "source": [
    "servlet_manager.read()"
   ]
  },
  {
   "cell_type": "code",
   "execution_count": 9,
   "metadata": {},
   "outputs": [],
   "source": [
    "import json\n",
    "servlet_manager.handle('run_experiment', json.dumps({'projectId': '579662685', 'experimentId': '1'}))"
   ]
  },
  {
   "cell_type": "code",
   "execution_count": null,
   "metadata": {},
   "outputs": [],
   "source": [
    "servlet_manager.read()"
   ]
  },
  {
   "cell_type": "code",
   "execution_count": null,
   "metadata": {},
   "outputs": [],
   "source": [
    "servlet_manager.read()"
   ]
  },
  {
   "cell_type": "code",
   "execution_count": null,
   "metadata": {},
   "outputs": [],
   "source": []
  }
 ],
 "metadata": {
  "kernelspec": {
   "display_name": "Python 3",
   "language": "python",
   "name": "python3"
  },
  "language_info": {
   "codemirror_mode": {
    "name": "ipython",
    "version": 3
   },
   "file_extension": ".py",
   "mimetype": "text/x-python",
   "name": "python",
   "nbconvert_exporter": "python",
   "pygments_lexer": "ipython3",
   "version": "3.6.5"
  }
 },
 "nbformat": 4,
 "nbformat_minor": 2
}
