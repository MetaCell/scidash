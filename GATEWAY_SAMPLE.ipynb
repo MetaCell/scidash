{
 "cells": [
  {
   "cell_type": "code",
   "execution_count": 1,
   "metadata": {},
   "outputs": [
    {
     "name": "stderr",
     "output_type": "stream",
     "text": [
      "/Users/roman/.virtualenvs/scidash/lib/python3.6/site-packages/psycopg2/__init__.py:144: UserWarning: The psycopg2 wheel package will be renamed from release 2.8; in order to keep installing from binary please use \"pip install psycopg2-binary\" instead. For details see: <http://initd.org/psycopg/docs/install.html#binary-install-from-pypi>.\n",
      "  \"\"\")\n"
     ]
    },
    {
     "name": "stdout",
     "output_type": "stream",
     "text": [
      "Could not load NEURONBackend\n"
     ]
    }
   ],
   "source": [
    "import os\n",
    "os.environ.setdefault(\"DJANGO_SETTINGS_MODULE\", \"scidash.main.settings\")\n",
    "import django\n",
    "django.setup()"
   ]
  },
  {
   "cell_type": "code",
   "execution_count": 2,
   "metadata": {},
   "outputs": [],
   "source": [
    "import pygeppetto_gateway as pg\n",
    "from django.conf import settings\n",
    "from scidash.sciunittests.models import ScoreInstance\n",
    "\n",
    "score = ScoreInstance.objects.get(pk=37)"
   ]
  },
  {
   "cell_type": "code",
   "execution_count": 3,
   "metadata": {
    "scrolled": true
   },
   "outputs": [
    {
     "name": "stderr",
     "output_type": "stream",
     "text": [
      "INFO:db:Writing https://raw.githubusercontent.com/scidash/neuronunit/dev/neuronunit/models/NeuroML2/LEMS_2007One.xml\n",
      "INFO:db:Processing Cells.xml for model https://raw.githubusercontent.com/scidash/neuronunit/dev/neuronunit/models/NeuroML2/LEMS_2007One.xml\n",
      "INFO:db:Processing Networks.xml for model https://raw.githubusercontent.com/scidash/neuronunit/dev/neuronunit/models/NeuroML2/LEMS_2007One.xml\n",
      "INFO:db:Processing Simulation.xml for model https://raw.githubusercontent.com/scidash/neuronunit/dev/neuronunit/models/NeuroML2/LEMS_2007One.xml\n",
      "INFO:db:Processing Izh2007One.net.nml for model https://raw.githubusercontent.com/scidash/neuronunit/dev/neuronunit/models/NeuroML2/LEMS_2007One.xml\n"
     ]
    },
    {
     "name": "stdout",
     "output_type": "stream",
     "text": [
      "neuronunit.models.reduced.ReducedModel\n",
      "neuronunit.tests.passive.InputResistanceTest\n",
      "quantities.ohm\n",
      "quantities.s\n",
      "quantities.s\n",
      "quantities.s\n",
      "quantities.s\n",
      "quantities.s\n",
      "quantities.A\n"
     ]
    },
    {
     "name": "stderr",
     "output_type": "stream",
     "text": [
      "INFO:db:Rewriting model file /var/folders/nl/l3mlw4851tl9rfz87ckxm9qr0000gp/T/tmppr45ewo3/Izh2007One.net.nml\n",
      "INFO:db:Extracting target for https://raw.githubusercontent.com/scidash/neuronunit/dev/neuronunit/models/NeuroML2/LEMS_2007One.xml\n",
      "INFO:db:Extracting target for https://raw.githubusercontent.com/scidash/neuronunit/dev/neuronunit/models/NeuroML2/LEMS_2007One.xml\n",
      "INFO:db:Extracting target for https://raw.githubusercontent.com/scidash/neuronunit/dev/neuronunit/models/NeuroML2/LEMS_2007One.xml\n"
     ]
    }
   ],
   "source": [
    "builder = pg.GeppettoProjectBuilder(score=score,\n",
    "                                    project_location=f\"{settings.PYGEPPETTO_BUILDER_PROJECT_BASE_URL}/jupyter/{score.pk}/project.json\",\n",
    "                                    xmi_location=f\"{settings.PYGEPPETTO_BUILDER_PROJECT_BASE_URL}/jupyter/{score.pk}/model.xmi\",\n",
    "                                    model_file_location=f\"{settings.PYGEPPETTO_BUILDER_PROJECT_BASE_URL}/jupyter/{score.pk}/{os.path.basename(score.model_instance.url)}\",\n",
    "                                    interpreter=pg.interpreters.lems.LEMSInterpreter\n",
    "                                    )\n",
    "project_url = builder.build_project()"
   ]
  },
  {
   "cell_type": "code",
   "execution_count": 4,
   "metadata": {},
   "outputs": [
    {
     "name": "stderr",
     "output_type": "stream",
     "text": [
      "INFO:db:Servlet manager init with ws://localhost:8080/org.geppetto.frontend/GeppettoServlet GEPPETTO url\n"
     ]
    }
   ],
   "source": [
    "servlet_manager = pg.GeppettoServletManager()"
   ]
  },
  {
   "cell_type": "code",
   "execution_count": 5,
   "metadata": {},
   "outputs": [
    {
     "name": "stderr",
     "output_type": "stream",
     "text": [
      "INFO:db:Sending 'load_project_from_url' request to GEPPETTO. Payload {\"requestID\": \"pg-request\", \"type\": \"load_project_from_url\", \"data\": \"http://localhost:8000/static/projects/jupyter/37/project.json\"}\n"
     ]
    },
    {
     "name": "stdout",
     "output_type": "stream",
     "text": [
      "http://localhost:8000/static/projects/jupyter/37/project.json\n"
     ]
    }
   ],
   "source": [
    "print(project_url)\n",
    "servlet_manager.handle('load_project_from_url', project_url)"
   ]
  },
  {
   "cell_type": "code",
   "execution_count": 6,
   "metadata": {},
   "outputs": [
    {
     "data": {
      "text/plain": [
       "'{\"type\":\"user_privileges\",\"data\":\"{\\\\\"user_privileges\\\\\":\\\\\"{\\\\\\\\\\\\\"userName\\\\\\\\\\\\\":\\\\\\\\\\\\\"Guest 4\\\\\\\\\\\\\",\\\\\\\\\\\\\"loggedIn\\\\\\\\\\\\\":true,\\\\\\\\\\\\\"hasPersistence\\\\\\\\\\\\\":false,\\\\\\\\\\\\\"privileges\\\\\\\\\\\\\":[\\\\\\\\\\\\\"READ_PROJECT\\\\\\\\\\\\\",\\\\\\\\\\\\\"DOWNLOAD\\\\\\\\\\\\\",\\\\\\\\\\\\\"RUN_EXPERIMENT\\\\\\\\\\\\\"]}\\\\\"}\"}'"
      ]
     },
     "execution_count": 6,
     "metadata": {},
     "output_type": "execute_result"
    }
   ],
   "source": [
    "servlet_manager.read()"
   ]
  },
  {
   "cell_type": "code",
   "execution_count": 7,
   "metadata": {},
   "outputs": [
    {
     "data": {
      "text/plain": [
       "'{\"type\":\"client_id\",\"data\":\"{\\\\\"clientID\\\\\":\\\\\"Connection6\\\\\"}\"}'"
      ]
     },
     "execution_count": 7,
     "metadata": {},
     "output_type": "execute_result"
    }
   ],
   "source": [
    "servlet_manager.read()"
   ]
  },
  {
   "cell_type": "code",
   "execution_count": 8,
   "metadata": {
    "scrolled": true
   },
   "outputs": [
    {
     "data": {
      "text/plain": [
       "'{\"requestID\":\"pg-request\",\"type\":\"project_loaded\",\"data\":\"{\\\\\"project_loaded\\\\\":\\\\\"{\\\\\\\\\\\\\"persisted\\\\\\\\\\\\\":false,\\\\\\\\\\\\\"project\\\\\\\\\\\\\":{\\\\\\\\\\\\\"id\\\\\\\\\\\\\":-846663890,\\\\\\\\\\\\\"name\\\\\\\\\\\\\":\\\\\\\\\\\\\"defaultProject\\\\\\\\\\\\\",\\\\\\\\\\\\\"experiments\\\\\\\\\\\\\":[{\\\\\\\\\\\\\"id\\\\\\\\\\\\\":1,\\\\\\\\\\\\\"aspectConfigurations\\\\\\\\\\\\\":[{\\\\\\\\\\\\\"id\\\\\\\\\\\\\":1,\\\\\\\\\\\\\"instance\\\\\\\\\\\\\":\\\\\\\\\\\\\"net1\\\\\\\\\\\\\",\\\\\\\\\\\\\"watchedVariables\\\\\\\\\\\\\":[\\\\\\\\\\\\\"net1.RS_pop[0].u\\\\\\\\\\\\\",\\\\\\\\\\\\\"net1.RS_pop[0].iSyn\\\\\\\\\\\\\",\\\\\\\\\\\\\"net1.RS_pop[0].iMemb\\\\\\\\\\\\\",\\\\\\\\\\\\\"net1.RS_pop[0].v\\\\\\\\\\\\\",\\\\\\\\\\\\\"net1.explicitInput.RS_Iext.i\\\\\\\\\\\\\",\\\\\\\\\\\\\"time\\\\\\\\\\\\\"],\\\\\\\\\\\\\"simulatorConfiguration\\\\\\\\\\\\\":{\\\\\\\\\\\\\"id\\\\\\\\\\\\\":1,\\\\\\\\\\\\\"simulatorId\\\\\\\\\\\\\":\\\\\\\\\\\\\"scidashSimulator\\\\\\\\\\\\\",\\\\\\\\\\\\\"conversionServiceId\\\\\\\\\\\\\":\\\\\\\\\\\\\"lemsConversion\\\\\\\\\\\\\",\\\\\\\\\\\\\"timestep\\\\\\\\\\\\\":2.5E-5,\\\\\\\\\\\\\"length\\\\\\\\\\\\\":0.800025,\\\\\\\\\\\\\"parameters\\\\\\\\\\\\\":{\\\\\\\\\\\\\"target\\\\\\\\\\\\\":\\\\\\\\\\\\\"net1\\\\\\\\\\\\\",\\\\\\\\\\\\\"scoreID\\\\\\\\\\\\\":\\\\\\\\\\\\\"37\\\\\\\\\\\\\"}}}],\\\\\\\\\\\\\"name\\\\\\\\\\\\\":\\\\\\\\\\\\\"defaultProjectExperiment\\\\\\\\\\\\\",\\\\\\\\\\\\\"status\\\\\\\\\\\\\":\\\\\\\\\\\\\"DESIGN\\\\\\\\\\\\\"}],\\\\\\\\\\\\\"geppettoModel\\\\\\\\\\\\\":{\\\\\\\\\\\\\"id\\\\\\\\\\\\\":1,\\\\\\\\\\\\\"url\\\\\\\\\\\\\":\\\\\\\\\\\\\"http://localhost:8000/static/projects/jupyter/37/model.xmi\\\\\\\\\\\\\",\\\\\\\\\\\\\"type\\\\\\\\\\\\\":\\\\\\\\\\\\\"GEPPETTO_PROJECT\\\\\\\\\\\\\"},\\\\\\\\\\\\\"activeExperimentId\\\\\\\\\\\\\":1,\\\\\\\\\\\\\"isPublic\\\\\\\\\\\\\":false,\\\\\\\\\\\\\"view\\\\\\\\\\\\\":{\\\\\\\\\\\\\"id\\\\\\\\\\\\\":1,\\\\\\\\\\\\\"viewStates\\\\\\\\\\\\\":\\\\\\\\\\\\\"{\\\\\\\\\\\\\\\\\\\\\\\\\\\\\"views\\\\\\\\\\\\\\\\\\\\\\\\\\\\\":{\\\\\\\\\\\\\\\\\\\\\\\\\\\\\"Canvas1\\\\\\\\\\\\\\\\\\\\\\\\\\\\\":{\\\\\\\\\\\\\\\\\\\\\\\\\\\\\"widgetType\\\\\\\\\\\\\\\\\\\\\\\\\\\\\":\\\\\\\\\\\\\\\\\\\\\\\\\\\\\"CANVAS\\\\\\\\\\\\\\\\\\\\\\\\\\\\\",\\\\\\\\\\\\\\\\\\\\\\\\\\\\\"componentSpecific\\\\\\\\\\\\\\\\\\\\\\\\\\\\\":{\\\\\\\\\\\\\\\\\\\\\\\\\\\\\"radiusMap\\\\\\\\\\\\\\\\\\\\\\\\\\\\\":{},\\\\\\\\\\\\\\\\\\\\\\\\\\\\\"colorMap\\\\\\\\\\\\\\\\\\\\\\\\\\\\\":{}}}}}\\\\\\\\\\\\\"}},\\\\\\\\\\\\\"isReadOnly\\\\\\\\\\\\\":false}\\\\\"}\"}'"
      ]
     },
     "execution_count": 8,
     "metadata": {},
     "output_type": "execute_result"
    }
   ],
   "source": [
    "servlet_manager.read()"
   ]
  },
  {
   "cell_type": "code",
   "execution_count": 9,
   "metadata": {},
   "outputs": [
    {
     "name": "stderr",
     "output_type": "stream",
     "text": [
      "INFO:db:Sending 'run_experiment' request to GEPPETTO. Payload {\"requestID\": \"pg-request\", \"type\": \"run_experiment\", \"data\": \"{\\\"projectId\\\": \\\"-846663890\\\", \\\"experimentId\\\": \\\"1\\\"}\"}\n"
     ]
    }
   ],
   "source": [
    "import json\n",
    "servlet_manager.handle('run_experiment', json.dumps({'projectId': '-846663890', 'experimentId': '1'}))"
   ]
  },
  {
   "cell_type": "code",
   "execution_count": 10,
   "metadata": {},
   "outputs": [
    {
     "data": {
      "text/plain": [
       "'{\"type\":\"user_privileges\",\"data\":\"{\\\\\"user_privileges\\\\\":\\\\\"{\\\\\\\\\\\\\"userName\\\\\\\\\\\\\":\\\\\\\\\\\\\"Guest 4\\\\\\\\\\\\\",\\\\\\\\\\\\\"loggedIn\\\\\\\\\\\\\":true,\\\\\\\\\\\\\"hasPersistence\\\\\\\\\\\\\":false,\\\\\\\\\\\\\"privileges\\\\\\\\\\\\\":[\\\\\\\\\\\\\"READ_PROJECT\\\\\\\\\\\\\",\\\\\\\\\\\\\"DOWNLOAD\\\\\\\\\\\\\",\\\\\\\\\\\\\"RUN_EXPERIMENT\\\\\\\\\\\\\"]}\\\\\"}\"}'"
      ]
     },
     "execution_count": 10,
     "metadata": {},
     "output_type": "execute_result"
    }
   ],
   "source": [
    "servlet_manager.read()"
   ]
  },
  {
   "cell_type": "code",
   "execution_count": 11,
   "metadata": {},
   "outputs": [
    {
     "data": {
      "text/plain": [
       "'{\"type\":\"client_id\",\"data\":\"{\\\\\"clientID\\\\\":\\\\\"Connection7\\\\\"}\"}'"
      ]
     },
     "execution_count": 11,
     "metadata": {},
     "output_type": "execute_result"
    }
   ],
   "source": [
    "servlet_manager.read()"
   ]
  },
  {
   "cell_type": "code",
   "execution_count": null,
   "metadata": {},
   "outputs": [],
   "source": [
    "servlet_manager.read()"
   ]
  },
  {
   "cell_type": "code",
   "execution_count": null,
   "metadata": {},
   "outputs": [],
   "source": []
  }
 ],
 "metadata": {
  "kernelspec": {
   "display_name": "Python 3",
   "language": "python",
   "name": "python3"
  },
  "language_info": {
   "codemirror_mode": {
    "name": "ipython",
    "version": 3
   },
   "file_extension": ".py",
   "mimetype": "text/x-python",
   "name": "python",
   "nbconvert_exporter": "python",
   "pygments_lexer": "ipython3",
   "version": "3.6.5"
  }
 },
 "nbformat": 4,
 "nbformat_minor": 2
}
