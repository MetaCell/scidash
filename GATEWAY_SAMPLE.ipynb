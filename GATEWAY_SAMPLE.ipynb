{
 "cells": [
  {
   "cell_type": "code",
   "execution_count": 1,
   "metadata": {},
   "outputs": [],
   "source": [
    "import pygeppetto_gateway as pg\n",
    "import os"
   ]
  },
  {
   "cell_type": "code",
   "execution_count": 2,
   "metadata": {
    "scrolled": true
   },
   "outputs": [
    {
     "name": "stdout",
     "output_type": "stream",
     "text": [
      "http://localhost:8000/static/projects/project.json\n"
     ]
    }
   ],
   "source": [
    "os.environ.setdefault(\"DJANGO_SETTINGS_MODULE\", \"scidash.main.settings\")\n",
    "from django.conf import settings\n",
    "\n",
    "builder = pg.GeppettoProjectBuilder(nml_url='https://raw.githubusercontent.com/openworm'\n",
    "                                    '/org.geppetto.core/master/src/main/resources/projects/'\n",
    "                                    'AuditoryCortex/AMPA_syn.synapse.nml',\n",
    "                                    built_project_location=f\"{settings.PYGEPPETTO_BUILDER_PROJECT_BASE_URL}/project.json\",\n",
    "                                    built_xmi_location=f\"{settings.PYGEPPETTO_BUILDER_PROJECT_BASE_URL}/model.xmi\",\n",
    "                                    downloaded_nml_location=f\"{settings.PYGEPPETTO_BUILDER_PROJECT_BASE_URL}/nml_model.nml\"\n",
    "                                    )\n",
    "project_url = builder.build_project()\n",
    "\n",
    "print(project_url)"
   ]
  },
  {
   "cell_type": "code",
   "execution_count": 3,
   "metadata": {},
   "outputs": [],
   "source": [
    "servlet_manager = pg.GeppettoServletManager()"
   ]
  },
  {
   "cell_type": "code",
   "execution_count": 9,
   "metadata": {},
   "outputs": [],
   "source": [
    "servlet_manager.handle('load_project_from_url', project_url)"
   ]
  },
  {
   "cell_type": "code",
   "execution_count": 10,
   "metadata": {},
   "outputs": [
    {
     "data": {
      "text/plain": [
       "'{\"type\":\"user_privileges\",\"data\":\"{\\\\\"user_privileges\\\\\":\\\\\"{\\\\\\\\\\\\\"userName\\\\\\\\\\\\\":\\\\\\\\\\\\\"Guest 8\\\\\\\\\\\\\",\\\\\\\\\\\\\"loggedIn\\\\\\\\\\\\\":true,\\\\\\\\\\\\\"hasPersistence\\\\\\\\\\\\\":false,\\\\\\\\\\\\\"privileges\\\\\\\\\\\\\":[\\\\\\\\\\\\\"READ_PROJECT\\\\\\\\\\\\\",\\\\\\\\\\\\\"DOWNLOAD\\\\\\\\\\\\\"]}\\\\\"}\"}'"
      ]
     },
     "execution_count": 10,
     "metadata": {},
     "output_type": "execute_result"
    }
   ],
   "source": [
    "servlet_manager.read()"
   ]
  },
  {
   "cell_type": "code",
   "execution_count": 11,
   "metadata": {},
   "outputs": [
    {
     "data": {
      "text/plain": [
       "'{\"type\":\"client_id\",\"data\":\"{\\\\\"clientID\\\\\":\\\\\"Connection11\\\\\"}\"}'"
      ]
     },
     "execution_count": 11,
     "metadata": {},
     "output_type": "execute_result"
    }
   ],
   "source": [
    "servlet_manager.read()"
   ]
  },
  {
   "cell_type": "code",
   "execution_count": 12,
   "metadata": {},
   "outputs": [
    {
     "data": {
      "text/plain": [
       "'{\"requestID\":\"pg-request\",\"type\":\"project_loaded\",\"data\":\"{\\\\\"project_loaded\\\\\":\\\\\"{\\\\\\\\\\\\\"persisted\\\\\\\\\\\\\":false,\\\\\\\\\\\\\"project\\\\\\\\\\\\\":{\\\\\\\\\\\\\"id\\\\\\\\\\\\\":-518030071,\\\\\\\\\\\\\"name\\\\\\\\\\\\\":\\\\\\\\\\\\\"defaultProject\\\\\\\\\\\\\",\\\\\\\\\\\\\"experiments\\\\\\\\\\\\\":[{\\\\\\\\\\\\\"id\\\\\\\\\\\\\":1,\\\\\\\\\\\\\"aspectConfigurations\\\\\\\\\\\\\":[{\\\\\\\\\\\\\"id\\\\\\\\\\\\\":1,\\\\\\\\\\\\\"instance\\\\\\\\\\\\\":\\\\\\\\\\\\\"\\\\\\\\\\\\\",\\\\\\\\\\\\\"simulatorConfiguration\\\\\\\\\\\\\":{\\\\\\\\\\\\\"id\\\\\\\\\\\\\":1,\\\\\\\\\\\\\"simulatorId\\\\\\\\\\\\\":\\\\\\\\\\\\\"scidashSimulator\\\\\\\\\\\\\",\\\\\\\\\\\\\"timestep\\\\\\\\\\\\\":2.5E-5,\\\\\\\\\\\\\"length\\\\\\\\\\\\\":0.3}}],\\\\\\\\\\\\\"name\\\\\\\\\\\\\":\\\\\\\\\\\\\"defaultProject\\\\\\\\\\\\\",\\\\\\\\\\\\\"status\\\\\\\\\\\\\":\\\\\\\\\\\\\"DESIGN\\\\\\\\\\\\\"}],\\\\\\\\\\\\\"geppettoModel\\\\\\\\\\\\\":{\\\\\\\\\\\\\"id\\\\\\\\\\\\\":1,\\\\\\\\\\\\\"url\\\\\\\\\\\\\":\\\\\\\\\\\\\"http://localhost:8000/static/projects/model.xmi\\\\\\\\\\\\\",\\\\\\\\\\\\\"type\\\\\\\\\\\\\":\\\\\\\\\\\\\"GEPPETTO_PROJECT\\\\\\\\\\\\\"},\\\\\\\\\\\\\"activeExperimentId\\\\\\\\\\\\\":1,\\\\\\\\\\\\\"isPublic\\\\\\\\\\\\\":false,\\\\\\\\\\\\\"view\\\\\\\\\\\\\":{\\\\\\\\\\\\\"id\\\\\\\\\\\\\":1,\\\\\\\\\\\\\"viewStates\\\\\\\\\\\\\":\\\\\\\\\\\\\"{\\\\\\\\\\\\\\\\\\\\\\\\\\\\\"views\\\\\\\\\\\\\\\\\\\\\\\\\\\\\":{\\\\\\\\\\\\\\\\\\\\\\\\\\\\\"Canvas1\\\\\\\\\\\\\\\\\\\\\\\\\\\\\":{\\\\\\\\\\\\\\\\\\\\\\\\\\\\\"widgetType\\\\\\\\\\\\\\\\\\\\\\\\\\\\\":\\\\\\\\\\\\\\\\\\\\\\\\\\\\\"CANVAS\\\\\\\\\\\\\\\\\\\\\\\\\\\\\",\\\\\\\\\\\\\\\\\\\\\\\\\\\\\"componentSpecific\\\\\\\\\\\\\\\\\\\\\\\\\\\\\":{\\\\\\\\\\\\\\\\\\\\\\\\\\\\\"radiusMap\\\\\\\\\\\\\\\\\\\\\\\\\\\\\":{},\\\\\\\\\\\\\\\\\\\\\\\\\\\\\"colorMap\\\\\\\\\\\\\\\\\\\\\\\\\\\\\":{}}}}}\\\\\\\\\\\\\"}},\\\\\\\\\\\\\"isReadOnly\\\\\\\\\\\\\":false}\\\\\"}\"}'"
      ]
     },
     "execution_count": 12,
     "metadata": {},
     "output_type": "execute_result"
    }
   ],
   "source": [
    "servlet_manager.read()"
   ]
  }
 ],
 "metadata": {
  "kernelspec": {
   "display_name": "Python 3",
   "language": "python",
   "name": "python3"
  },
  "language_info": {
   "codemirror_mode": {
    "name": "ipython",
    "version": 3
   },
   "file_extension": ".py",
   "mimetype": "text/x-python",
   "name": "python",
   "nbconvert_exporter": "python",
   "pygments_lexer": "ipython3",
   "version": "3.6.5"
  }
 },
 "nbformat": 4,
 "nbformat_minor": 2
}
