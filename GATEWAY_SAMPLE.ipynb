{
 "cells": [
  {
   "cell_type": "code",
   "execution_count": 1,
   "metadata": {},
   "outputs": [
    {
     "name": "stderr",
     "output_type": "stream",
     "text": [
      "/Users/roman/.virtualenvs/scidash/lib/python3.6/site-packages/psycopg2/__init__.py:144: UserWarning: The psycopg2 wheel package will be renamed from release 2.8; in order to keep installing from binary please use \"pip install psycopg2-binary\" instead. For details see: <http://initd.org/psycopg/docs/install.html#binary-install-from-pypi>.\n",
      "  \"\"\")\n"
     ]
    }
   ],
   "source": [
    "import os\n",
    "os.environ.setdefault(\"DJANGO_SETTINGS_MODULE\", \"scidash.main.settings\")\n",
    "import django\n",
    "django.setup()"
   ]
  },
  {
   "cell_type": "code",
   "execution_count": 2,
   "metadata": {},
   "outputs": [],
   "source": [
    "import pygeppetto_gateway as pg\n",
    "from django.conf import settings\n",
    "from scidash.sciunittests.models import ScoreInstance\n",
    "\n",
    "score = ScoreInstance.objects.get(pk=12)"
   ]
  },
  {
   "cell_type": "code",
   "execution_count": 3,
   "metadata": {
    "scrolled": true
   },
   "outputs": [],
   "source": [
    "builder = pg.GeppettoProjectBuilder(score=score,\n",
    "                                    project_location=f\"{settings.PYGEPPETTO_BUILDER_PROJECT_BASE_URL}/jupyter/{score.pk}/project.json\",\n",
    "                                    xmi_location=f\"{settings.PYGEPPETTO_BUILDER_PROJECT_BASE_URL}/jupyter/{score.pk}/model.xmi\",\n",
    "                                    nml_location=f\"{settings.PYGEPPETTO_BUILDER_PROJECT_BASE_URL}/jupyter/{score.pk}/{score.model_instance.model_class.class_name}.net.nml\",\n",
    "    \n",
    "                                    )\n",
    "project_url = builder.build_project()"
   ]
  },
  {
   "cell_type": "code",
   "execution_count": 4,
   "metadata": {},
   "outputs": [],
   "source": [
    "servlet_manager = pg.GeppettoServletManager()"
   ]
  },
  {
   "cell_type": "code",
   "execution_count": 5,
   "metadata": {},
   "outputs": [
    {
     "name": "stdout",
     "output_type": "stream",
     "text": [
      "http://localhost:8000/static/projects/jupyter/12/project.json\n"
     ]
    }
   ],
   "source": [
    "print(project_url)\n",
    "servlet_manager.handle('load_project_from_url', project_url)"
   ]
  },
  {
   "cell_type": "code",
   "execution_count": 6,
   "metadata": {},
   "outputs": [
    {
     "data": {
      "text/plain": [
       "'{\"type\":\"user_privileges\",\"data\":\"{\\\\\"user_privileges\\\\\":\\\\\"{\\\\\\\\\\\\\"userName\\\\\\\\\\\\\":\\\\\\\\\\\\\"Guest 1\\\\\\\\\\\\\",\\\\\\\\\\\\\"loggedIn\\\\\\\\\\\\\":true,\\\\\\\\\\\\\"hasPersistence\\\\\\\\\\\\\":false,\\\\\\\\\\\\\"privileges\\\\\\\\\\\\\":[\\\\\\\\\\\\\"READ_PROJECT\\\\\\\\\\\\\",\\\\\\\\\\\\\"DOWNLOAD\\\\\\\\\\\\\",\\\\\\\\\\\\\"RUN_EXPERIMENT\\\\\\\\\\\\\"]}\\\\\"}\"}'"
      ]
     },
     "execution_count": 6,
     "metadata": {},
     "output_type": "execute_result"
    }
   ],
   "source": [
    "servlet_manager.read()"
   ]
  },
  {
   "cell_type": "code",
   "execution_count": 7,
   "metadata": {},
   "outputs": [
    {
     "data": {
      "text/plain": [
       "'{\"type\":\"client_id\",\"data\":\"{\\\\\"clientID\\\\\":\\\\\"Connection3\\\\\"}\"}'"
      ]
     },
     "execution_count": 7,
     "metadata": {},
     "output_type": "execute_result"
    }
   ],
   "source": [
    "servlet_manager.read()"
   ]
  },
  {
   "cell_type": "code",
   "execution_count": 8,
   "metadata": {
    "scrolled": true
   },
   "outputs": [
    {
     "data": {
      "text/plain": [
       "'{\"requestID\":\"pg-request\",\"type\":\"project_loaded\",\"data\":\"{\\\\\"project_loaded\\\\\":\\\\\"{\\\\\\\\\\\\\"persisted\\\\\\\\\\\\\":false,\\\\\\\\\\\\\"project\\\\\\\\\\\\\":{\\\\\\\\\\\\\"id\\\\\\\\\\\\\":-1260618184,\\\\\\\\\\\\\"name\\\\\\\\\\\\\":\\\\\\\\\\\\\"defaultProject\\\\\\\\\\\\\",\\\\\\\\\\\\\"experiments\\\\\\\\\\\\\":[{\\\\\\\\\\\\\"id\\\\\\\\\\\\\":1,\\\\\\\\\\\\\"aspectConfigurations\\\\\\\\\\\\\":[{\\\\\\\\\\\\\"id\\\\\\\\\\\\\":1,\\\\\\\\\\\\\"instance\\\\\\\\\\\\\":\\\\\\\\\\\\\"defaultModel\\\\\\\\\\\\\",\\\\\\\\\\\\\"watchedVariables\\\\\\\\\\\\\":[\\\\\\\\\\\\\"defaultModel.RS_pop[0].v\\\\\\\\\\\\\"],\\\\\\\\\\\\\"simulatorConfiguration\\\\\\\\\\\\\":{\\\\\\\\\\\\\"id\\\\\\\\\\\\\":1,\\\\\\\\\\\\\"simulatorId\\\\\\\\\\\\\":\\\\\\\\\\\\\"scidashSimulator\\\\\\\\\\\\\",\\\\\\\\\\\\\"timestep\\\\\\\\\\\\\":5.0E-5,\\\\\\\\\\\\\"length\\\\\\\\\\\\\":0.3,\\\\\\\\\\\\\"parameters\\\\\\\\\\\\\":{\\\\\\\\\\\\\"target\\\\\\\\\\\\\":\\\\\\\\\\\\\"net1\\\\\\\\\\\\\",\\\\\\\\\\\\\"scoreID\\\\\\\\\\\\\":\\\\\\\\\\\\\"12\\\\\\\\\\\\\"}}}],\\\\\\\\\\\\\"name\\\\\\\\\\\\\":\\\\\\\\\\\\\"defaultProject\\\\\\\\\\\\\",\\\\\\\\\\\\\"status\\\\\\\\\\\\\":\\\\\\\\\\\\\"DESIGN\\\\\\\\\\\\\"}],\\\\\\\\\\\\\"geppettoModel\\\\\\\\\\\\\":{\\\\\\\\\\\\\"id\\\\\\\\\\\\\":1,\\\\\\\\\\\\\"url\\\\\\\\\\\\\":\\\\\\\\\\\\\"http://localhost:8000/static/projects/jupyter/12/model.xmi\\\\\\\\\\\\\",\\\\\\\\\\\\\"type\\\\\\\\\\\\\":\\\\\\\\\\\\\"GEPPETTO_PROJECT\\\\\\\\\\\\\"},\\\\\\\\\\\\\"activeExperimentId\\\\\\\\\\\\\":1,\\\\\\\\\\\\\"isPublic\\\\\\\\\\\\\":false,\\\\\\\\\\\\\"view\\\\\\\\\\\\\":{\\\\\\\\\\\\\"id\\\\\\\\\\\\\":1,\\\\\\\\\\\\\"viewStates\\\\\\\\\\\\\":\\\\\\\\\\\\\"{\\\\\\\\\\\\\\\\\\\\\\\\\\\\\"views\\\\\\\\\\\\\\\\\\\\\\\\\\\\\":{\\\\\\\\\\\\\\\\\\\\\\\\\\\\\"Canvas1\\\\\\\\\\\\\\\\\\\\\\\\\\\\\":{\\\\\\\\\\\\\\\\\\\\\\\\\\\\\"widgetType\\\\\\\\\\\\\\\\\\\\\\\\\\\\\":\\\\\\\\\\\\\\\\\\\\\\\\\\\\\"CANVAS\\\\\\\\\\\\\\\\\\\\\\\\\\\\\",\\\\\\\\\\\\\\\\\\\\\\\\\\\\\"componentSpecific\\\\\\\\\\\\\\\\\\\\\\\\\\\\\":{\\\\\\\\\\\\\\\\\\\\\\\\\\\\\"radiusMap\\\\\\\\\\\\\\\\\\\\\\\\\\\\\":{},\\\\\\\\\\\\\\\\\\\\\\\\\\\\\"colorMap\\\\\\\\\\\\\\\\\\\\\\\\\\\\\":{}}}}}\\\\\\\\\\\\\"}},\\\\\\\\\\\\\"isReadOnly\\\\\\\\\\\\\":false}\\\\\"}\"}'"
      ]
     },
     "execution_count": 8,
     "metadata": {},
     "output_type": "execute_result"
    }
   ],
   "source": [
    "servlet_manager.read()"
   ]
  },
  {
   "cell_type": "code",
   "execution_count": 9,
   "metadata": {},
   "outputs": [],
   "source": [
    "import json\n",
    "servlet_manager.handle('run_experiment', json.dumps({'projectId': '-1260618184', 'experimentId': '1'}))"
   ]
  },
  {
   "cell_type": "code",
   "execution_count": null,
   "metadata": {},
   "outputs": [],
   "source": [
    "servlet_manager.read()"
   ]
  },
  {
   "cell_type": "code",
   "execution_count": null,
   "metadata": {},
   "outputs": [],
   "source": [
    "servlet_manager.read()"
   ]
  },
  {
   "cell_type": "code",
   "execution_count": null,
   "metadata": {},
   "outputs": [],
   "source": []
  }
 ],
 "metadata": {
  "kernelspec": {
   "display_name": "Python 3",
   "language": "python",
   "name": "python3"
  },
  "language_info": {
   "codemirror_mode": {
    "name": "ipython",
    "version": 3
   },
   "file_extension": ".py",
   "mimetype": "text/x-python",
   "name": "python",
   "nbconvert_exporter": "python",
   "pygments_lexer": "ipython3",
   "version": "3.6.5"
  }
 },
 "nbformat": 4,
 "nbformat_minor": 2
}
